{
 "cells": [
  {
   "attachments": {},
   "cell_type": "markdown",
   "metadata": {},
   "source": [
    "Dataset came from Kaggle => https://www.kaggle.com/datasets/bharatnatrayn/movies-dataset-for-feature-extracion-prediction?select=movies.csv"
   ]
  },
  {
   "cell_type": "code",
   "execution_count": 1,
   "metadata": {},
   "outputs": [],
   "source": [
    "import pandas as pd\n",
    "import numpy as np\n",
    "import re\n",
    "pd.set_option('display.max_rows', 10)"
   ]
  },
  {
   "cell_type": "code",
   "execution_count": 2,
   "metadata": {},
   "outputs": [
    {
     "name": "stdout",
     "output_type": "stream",
     "text": [
      "<class 'pandas.core.frame.DataFrame'>\n",
      "RangeIndex: 9999 entries, 0 to 9998\n",
      "Data columns (total 9 columns):\n",
      " #   Column    Non-Null Count  Dtype  \n",
      "---  ------    --------------  -----  \n",
      " 0   MOVIES    9999 non-null   object \n",
      " 1   YEAR      9355 non-null   object \n",
      " 2   GENRE     9919 non-null   object \n",
      " 3   RATING    8179 non-null   float64\n",
      " 4   ONE-LINE  9999 non-null   object \n",
      " 5   STARS     9999 non-null   object \n",
      " 6   VOTES     8179 non-null   object \n",
      " 7   RunTime   7041 non-null   float64\n",
      " 8   Gross     460 non-null    object \n",
      "dtypes: float64(2), object(7)\n",
      "memory usage: 703.2+ KB\n"
     ]
    },
    {
     "data": {
      "text/html": [
       "<div>\n",
       "<style scoped>\n",
       "    .dataframe tbody tr th:only-of-type {\n",
       "        vertical-align: middle;\n",
       "    }\n",
       "\n",
       "    .dataframe tbody tr th {\n",
       "        vertical-align: top;\n",
       "    }\n",
       "\n",
       "    .dataframe thead th {\n",
       "        text-align: right;\n",
       "    }\n",
       "</style>\n",
       "<table border=\"1\" class=\"dataframe\">\n",
       "  <thead>\n",
       "    <tr style=\"text-align: right;\">\n",
       "      <th></th>\n",
       "      <th>MOVIES</th>\n",
       "      <th>YEAR</th>\n",
       "      <th>GENRE</th>\n",
       "      <th>RATING</th>\n",
       "      <th>ONE-LINE</th>\n",
       "      <th>STARS</th>\n",
       "      <th>VOTES</th>\n",
       "      <th>RunTime</th>\n",
       "      <th>Gross</th>\n",
       "    </tr>\n",
       "  </thead>\n",
       "  <tbody>\n",
       "    <tr>\n",
       "      <th>0</th>\n",
       "      <td>Blood Red Sky</td>\n",
       "      <td>(2021)</td>\n",
       "      <td>\\nAction, Horror, Thriller</td>\n",
       "      <td>6.1</td>\n",
       "      <td>\\nA woman with a mysterious illness is forced ...</td>\n",
       "      <td>\\n    Director:\\nPeter Thorwarth\\n| \\n    Star...</td>\n",
       "      <td>21,062</td>\n",
       "      <td>121.0</td>\n",
       "      <td>NaN</td>\n",
       "    </tr>\n",
       "    <tr>\n",
       "      <th>1</th>\n",
       "      <td>Masters of the Universe: Revelation</td>\n",
       "      <td>(2021– )</td>\n",
       "      <td>\\nAnimation, Action, Adventure</td>\n",
       "      <td>5.0</td>\n",
       "      <td>\\nThe war for Eternia begins again in what may...</td>\n",
       "      <td>\\n            \\n    Stars:\\nChris Wood, \\nSara...</td>\n",
       "      <td>17,870</td>\n",
       "      <td>25.0</td>\n",
       "      <td>NaN</td>\n",
       "    </tr>\n",
       "    <tr>\n",
       "      <th>2</th>\n",
       "      <td>The Walking Dead</td>\n",
       "      <td>(2010–2022)</td>\n",
       "      <td>\\nDrama, Horror, Thriller</td>\n",
       "      <td>8.2</td>\n",
       "      <td>\\nSheriff Deputy Rick Grimes wakes up from a c...</td>\n",
       "      <td>\\n            \\n    Stars:\\nAndrew Lincoln, \\n...</td>\n",
       "      <td>885,805</td>\n",
       "      <td>44.0</td>\n",
       "      <td>NaN</td>\n",
       "    </tr>\n",
       "    <tr>\n",
       "      <th>3</th>\n",
       "      <td>Rick and Morty</td>\n",
       "      <td>(2013– )</td>\n",
       "      <td>\\nAnimation, Adventure, Comedy</td>\n",
       "      <td>9.2</td>\n",
       "      <td>\\nAn animated series that follows the exploits...</td>\n",
       "      <td>\\n            \\n    Stars:\\nJustin Roiland, \\n...</td>\n",
       "      <td>414,849</td>\n",
       "      <td>23.0</td>\n",
       "      <td>NaN</td>\n",
       "    </tr>\n",
       "    <tr>\n",
       "      <th>4</th>\n",
       "      <td>Army of Thieves</td>\n",
       "      <td>(2021)</td>\n",
       "      <td>\\nAction, Crime, Horror</td>\n",
       "      <td>NaN</td>\n",
       "      <td>\\nA prequel, set before the events of Army of ...</td>\n",
       "      <td>\\n    Director:\\nMatthias Schweighöfer\\n| \\n  ...</td>\n",
       "      <td>NaN</td>\n",
       "      <td>NaN</td>\n",
       "      <td>NaN</td>\n",
       "    </tr>\n",
       "  </tbody>\n",
       "</table>\n",
       "</div>"
      ],
      "text/plain": [
       "                                MOVIES         YEAR  \\\n",
       "0                        Blood Red Sky       (2021)   \n",
       "1  Masters of the Universe: Revelation     (2021– )   \n",
       "2                     The Walking Dead  (2010–2022)   \n",
       "3                       Rick and Morty     (2013– )   \n",
       "4                      Army of Thieves       (2021)   \n",
       "\n",
       "                                        GENRE  RATING  \\\n",
       "0      \\nAction, Horror, Thriller                 6.1   \n",
       "1  \\nAnimation, Action, Adventure                 5.0   \n",
       "2       \\nDrama, Horror, Thriller                 8.2   \n",
       "3  \\nAnimation, Adventure, Comedy                 9.2   \n",
       "4         \\nAction, Crime, Horror                 NaN   \n",
       "\n",
       "                                            ONE-LINE  \\\n",
       "0  \\nA woman with a mysterious illness is forced ...   \n",
       "1  \\nThe war for Eternia begins again in what may...   \n",
       "2  \\nSheriff Deputy Rick Grimes wakes up from a c...   \n",
       "3  \\nAn animated series that follows the exploits...   \n",
       "4  \\nA prequel, set before the events of Army of ...   \n",
       "\n",
       "                                               STARS    VOTES  RunTime Gross  \n",
       "0  \\n    Director:\\nPeter Thorwarth\\n| \\n    Star...   21,062    121.0   NaN  \n",
       "1  \\n            \\n    Stars:\\nChris Wood, \\nSara...   17,870     25.0   NaN  \n",
       "2  \\n            \\n    Stars:\\nAndrew Lincoln, \\n...  885,805     44.0   NaN  \n",
       "3  \\n            \\n    Stars:\\nJustin Roiland, \\n...  414,849     23.0   NaN  \n",
       "4  \\n    Director:\\nMatthias Schweighöfer\\n| \\n  ...      NaN      NaN   NaN  "
      ]
     },
     "execution_count": 2,
     "metadata": {},
     "output_type": "execute_result"
    }
   ],
   "source": [
    "filename = './movies.csv'\n",
    "movies_df = pd.read_csv(filename, skipinitialspace = True)\n",
    "movies_df.info()\n",
    "movies_df.head()"
   ]
  },
  {
   "cell_type": "markdown",
   "metadata": {},
   "source": []
  },
  {
   "attachments": {},
   "cell_type": "markdown",
   "metadata": {},
   "source": [
    "Initial Observations: <br>\n",
    "1. There are many missing/null values in the Year, Genre, Rating, Votes, Runtime, Gross\n",
    "2. Year and Gross should be an integer. However, Year has ranges and need to determine what to do about them\n",
    "3. May of the columns have \"\\n\" and need to remove that\n"
   ]
  },
  {
   "cell_type": "code",
   "execution_count": 3,
   "metadata": {},
   "outputs": [],
   "source": [
    "# copy of original  dataset\n",
    "movies_df2 = movies_df.copy()"
   ]
  },
  {
   "cell_type": "code",
   "execution_count": 4,
   "metadata": {},
   "outputs": [],
   "source": [
    "movies_df.columns = ['Movies', 'Year', 'Genre', 'Rating', 'One-line', 'Start', 'Votes', 'Runtime', 'Gross']"
   ]
  },
  {
   "cell_type": "code",
   "execution_count": 5,
   "metadata": {},
   "outputs": [
    {
     "data": {
      "text/plain": [
       "Index(['Movies', 'Year', 'Genre', 'Rating', 'One-line', 'Start', 'Votes',\n",
       "       'Runtime', 'Gross'],\n",
       "      dtype='object')"
      ]
     },
     "execution_count": 5,
     "metadata": {},
     "output_type": "execute_result"
    }
   ],
   "source": [
    "movies_df.columns"
   ]
  },
  {
   "cell_type": "code",
   "execution_count": 6,
   "metadata": {},
   "outputs": [
    {
     "data": {
      "text/plain": [
       "431"
      ]
     },
     "execution_count": 6,
     "metadata": {},
     "output_type": "execute_result"
    }
   ],
   "source": [
    "movies_df.duplicated().sum()\n",
    "# 431 duplicates\n"
   ]
  },
  {
   "cell_type": "code",
   "execution_count": 7,
   "metadata": {},
   "outputs": [
    {
     "data": {
      "text/plain": [
       "0"
      ]
     },
     "execution_count": 7,
     "metadata": {},
     "output_type": "execute_result"
    }
   ],
   "source": [
    "movies_df = movies_df.drop_duplicates()\n",
    "movies_df.duplicated().sum()"
   ]
  },
  {
   "cell_type": "code",
   "execution_count": 8,
   "metadata": {},
   "outputs": [
    {
     "data": {
      "text/plain": [
       "Movies         0\n",
       "Year         542\n",
       "Genre         78\n",
       "Rating      1400\n",
       "One-line       0\n",
       "Start          0\n",
       "Votes       1400\n",
       "Runtime     2560\n",
       "Gross       9108\n",
       "dtype: int64"
      ]
     },
     "execution_count": 8,
     "metadata": {},
     "output_type": "execute_result"
    }
   ],
   "source": [
    "# checking null values\n",
    "missing_values_count= movies_df.isna().sum()\n",
    "missing_values_count"
   ]
  },
  {
   "attachments": {},
   "cell_type": "markdown",
   "metadata": {},
   "source": [
    "That seems like a lot! It might be helpful to see what percentage of the values in our dataset were missing to give us a better sense of the scale of this problem: <br>\n",
    "Resource: https://www.kaggle.com/code/alexisbcook/handling-missing-values gave me the inspiration to determine the percentage of missed values"
   ]
  },
  {
   "cell_type": "code",
   "execution_count": 9,
   "metadata": {},
   "outputs": [
    {
     "name": "stdout",
     "output_type": "stream",
     "text": [
      "There is 17.52% missing data\n"
     ]
    }
   ],
   "source": [
    "# how many total missing values do we have?\n",
    "total_cells = np.product(movies_df.shape)\n",
    "total_missing = missing_values_count.sum()\n",
    "\n",
    "# percent of data that is missing\n",
    "percent_missing = (total_missing/total_cells) * 100\n",
    "print(f\"There is {percent_missing.round(decimals=2)}% missing data\" )"
   ]
  },
  {
   "cell_type": "code",
   "execution_count": 10,
   "metadata": {},
   "outputs": [
    {
     "data": {
      "text/plain": [
       "<Axes: >"
      ]
     },
     "execution_count": 10,
     "metadata": {},
     "output_type": "execute_result"
    },
    {
     "data": {
      "image/png": "[encoded data removed]",
      "text/plain": [
       "<Figure size 2500x1000 with 2 Axes>"
      ]
     },
     "metadata": {},
     "output_type": "display_data"
    }
   ],
   "source": [
    "# visual missind data\n",
    "import missingno as msno\n",
    "%matplotlib inline\n",
    "msno.matrix(movies_df.sample(250))"
   ]
  },
  {
   "cell_type": "code",
   "execution_count": 11,
   "metadata": {},
   "outputs": [],
   "source": [
    "\n",
    "def check_df_null_percentage(df):\n",
    "    missing_values_count= df.isna().sum()\n",
    "    total_cells = np.product(df.shape)\n",
    "    total_missing = missing_values_count.sum()\n",
    "    percent_missing = (total_missing/total_cells) * 100\n",
    "    total_rows = df.shape[0]\n",
    "    # created percentage null checks for each row \n",
    "    for col in df:\n",
    "        series = df[col]\n",
    "        each_series_null_values = series.isna().sum()\n",
    "        percentage_each_series = (each_series_null_values/total_rows) * 100\n",
    "        percentage_each_series_df  = (each_series_null_values/total_cells) * 100\n",
    "        text = (\n",
    "            f'''Series column {col} has {each_series_null_values} missing values which is \n",
    "            {percentage_each_series.round(decimals=2)} % of row data or \n",
    "            {percentage_each_series_df.round(decimals=2)} of the whole dataset'''\n",
    "        )\n",
    "        print(text)\n",
    "    print(f\"There is {percent_missing.round(decimals=2)}% missing data in your dataset\" )\n",
    "    "
   ]
  },
  {
   "attachments": {},
   "cell_type": "markdown",
   "metadata": {},
   "source": [
    "Created function to check the percentage of missed data "
   ]
  },
  {
   "cell_type": "code",
   "execution_count": 12,
   "metadata": {},
   "outputs": [
    {
     "name": "stdout",
     "output_type": "stream",
     "text": [
      "Series column Movies has 0 missing values which is \n",
      "            0.0 % of row data or \n",
      "            0.0 of the whole dataset\n",
      "Series column Year has 542 missing values which is \n",
      "            5.66 % of row data or \n",
      "            0.63 of the whole dataset\n",
      "Series column Genre has 78 missing values which is \n",
      "            0.82 % of row data or \n",
      "            0.09 of the whole dataset\n",
      "Series column Rating has 1400 missing values which is \n",
      "            14.63 % of row data or \n",
      "            1.63 of the whole dataset\n",
      "Series column One-line has 0 missing values which is \n",
      "            0.0 % of row data or \n",
      "            0.0 of the whole dataset\n",
      "Series column Start has 0 missing values which is \n",
      "            0.0 % of row data or \n",
      "            0.0 of the whole dataset\n",
      "Series column Votes has 1400 missing values which is \n",
      "            14.63 % of row data or \n",
      "            1.63 of the whole dataset\n",
      "Series column Runtime has 2560 missing values which is \n",
      "            26.76 % of row data or \n",
      "            2.97 of the whole dataset\n",
      "Series column Gross has 9108 missing values which is \n",
      "            95.19 % of row data or \n",
      "            10.58 of the whole dataset\n",
      "There is 17.52% missing data in your dataset\n"
     ]
    }
   ],
   "source": [
    "check_df_null_percentage(movies_df)"
   ]
  },
  {
   "attachments": {},
   "cell_type": "markdown",
   "metadata": {},
   "source": [
    "Columns to Keep --> <br/> Movies, \n",
    "Columns to Drop rows/columns --> <br/> Genre rows, Gros column\n",
    "Columns to Fill in --> <br/> Year, Rating, Votes, Runtime\n"
   ]
  },
  {
   "cell_type": "code",
   "execution_count": 13,
   "metadata": {},
   "outputs": [],
   "source": [
    "movies_df = movies_df.drop('Gross', axis = 1)\n",
    "\n",
    "\n"
   ]
  },
  {
   "cell_type": "code",
   "execution_count": 14,
   "metadata": {},
   "outputs": [],
   "source": [
    "# movies_df= movies_df.dropna(axis = 0, how = 'all')\n",
    "movies_df.dropna(axis=0, how=\"any\", subset=['Genre'], inplace=True)"
   ]
  },
  {
   "cell_type": "code",
   "execution_count": 15,
   "metadata": {},
   "outputs": [
    {
     "data": {
      "text/plain": [
       "Movies         0\n",
       "Year         501\n",
       "Genre          0\n",
       "Rating      1333\n",
       "One-line       0\n",
       "Start          0\n",
       "Votes       1333\n",
       "Runtime     2491\n",
       "dtype: int64"
      ]
     },
     "execution_count": 15,
     "metadata": {},
     "output_type": "execute_result"
    }
   ],
   "source": [
    "movies_df.isna().sum()"
   ]
  },
  {
   "attachments": {},
   "cell_type": "markdown",
   "metadata": {},
   "source": [
    "https://gist.github.com/smram/d6ded3c9028272360eb65bcab564a18a\n",
    "\n",
    "https://stackoverflow.com/questions/44227748/removing-newlines-from-messy-strings-in-pandas-dataframe-cells\n",
    "\n",
    "https://regexr.com/3fkiv\n",
    "\n",
    "https://www.geeksforgeeks.org/pandas-strip-whitespace-from-entire-dataframe/\n"
   ]
  },
  {
   "cell_type": "code",
   "execution_count": 16,
   "metadata": {},
   "outputs": [],
   "source": [
    "def cleanStringData(df):\n",
    "    df = df.replace(r'\\r+|\\n+|\\t+|\\(+|\\)+|','', regex=True)\n",
    "    new_df = pd.DataFrame()\n",
    "    for col in df:\n",
    "        series = df[col]\n",
    "        # check column data type\n",
    "        if series.dtype == 'object':\n",
    "            series = series.str.strip()\n",
    "            new_df[col] = series\n",
    "        else:\n",
    "            new_df[col] = series\n",
    "    return new_df"
   ]
  },
  {
   "attachments": {},
   "cell_type": "markdown",
   "metadata": {},
   "source": [
    "Visualizes Missed Data: https://github.com/ResidentMario/missingno"
   ]
  },
  {
   "cell_type": "code",
   "execution_count": 17,
   "metadata": {},
   "outputs": [
    {
     "data": {
      "text/html": [
       "<div>\n",
       "<style scoped>\n",
       "    .dataframe tbody tr th:only-of-type {\n",
       "        vertical-align: middle;\n",
       "    }\n",
       "\n",
       "    .dataframe tbody tr th {\n",
       "        vertical-align: top;\n",
       "    }\n",
       "\n",
       "    .dataframe thead th {\n",
       "        text-align: right;\n",
       "    }\n",
       "</style>\n",
       "<table border=\"1\" class=\"dataframe\">\n",
       "  <thead>\n",
       "    <tr style=\"text-align: right;\">\n",
       "      <th></th>\n",
       "      <th>Movies</th>\n",
       "      <th>Year</th>\n",
       "      <th>Genre</th>\n",
       "      <th>Rating</th>\n",
       "      <th>One-line</th>\n",
       "      <th>Start</th>\n",
       "      <th>Votes</th>\n",
       "      <th>Runtime</th>\n",
       "    </tr>\n",
       "  </thead>\n",
       "  <tbody>\n",
       "    <tr>\n",
       "      <th>0</th>\n",
       "      <td>Blood Red Sky</td>\n",
       "      <td>2021</td>\n",
       "      <td>Action, Horror, Thriller</td>\n",
       "      <td>6.1</td>\n",
       "      <td>A woman with a mysterious illness is forced in...</td>\n",
       "      <td>Director:Peter Thorwarth|     Stars:Peri Baume...</td>\n",
       "      <td>21,062</td>\n",
       "      <td>121.0</td>\n",
       "    </tr>\n",
       "    <tr>\n",
       "      <th>1</th>\n",
       "      <td>Masters of the Universe: Revelation</td>\n",
       "      <td>2021–</td>\n",
       "      <td>Animation, Action, Adventure</td>\n",
       "      <td>5.0</td>\n",
       "      <td>The war for Eternia begins again in what may b...</td>\n",
       "      <td>Stars:Chris Wood, Sarah Michelle Gellar, Lena ...</td>\n",
       "      <td>17,870</td>\n",
       "      <td>25.0</td>\n",
       "    </tr>\n",
       "    <tr>\n",
       "      <th>2</th>\n",
       "      <td>The Walking Dead</td>\n",
       "      <td>2010–2022</td>\n",
       "      <td>Drama, Horror, Thriller</td>\n",
       "      <td>8.2</td>\n",
       "      <td>Sheriff Deputy Rick Grimes wakes up from a com...</td>\n",
       "      <td>Stars:Andrew Lincoln, Norman Reedus, Melissa M...</td>\n",
       "      <td>885,805</td>\n",
       "      <td>44.0</td>\n",
       "    </tr>\n",
       "    <tr>\n",
       "      <th>3</th>\n",
       "      <td>Rick and Morty</td>\n",
       "      <td>2013–</td>\n",
       "      <td>Animation, Adventure, Comedy</td>\n",
       "      <td>9.2</td>\n",
       "      <td>An animated series that follows the exploits o...</td>\n",
       "      <td>Stars:Justin Roiland, Chris Parnell, Spencer G...</td>\n",
       "      <td>414,849</td>\n",
       "      <td>23.0</td>\n",
       "    </tr>\n",
       "    <tr>\n",
       "      <th>4</th>\n",
       "      <td>Army of Thieves</td>\n",
       "      <td>2021</td>\n",
       "      <td>Action, Crime, Horror</td>\n",
       "      <td>NaN</td>\n",
       "      <td>A prequel, set before the events of Army of th...</td>\n",
       "      <td>Director:Matthias Schweighöfer|     Stars:Matt...</td>\n",
       "      <td>NaN</td>\n",
       "      <td>NaN</td>\n",
       "    </tr>\n",
       "    <tr>\n",
       "      <th>...</th>\n",
       "      <td>...</td>\n",
       "      <td>...</td>\n",
       "      <td>...</td>\n",
       "      <td>...</td>\n",
       "      <td>...</td>\n",
       "      <td>...</td>\n",
       "      <td>...</td>\n",
       "      <td>...</td>\n",
       "    </tr>\n",
       "    <tr>\n",
       "      <th>9993</th>\n",
       "      <td>Totenfrau</td>\n",
       "      <td>2022–</td>\n",
       "      <td>Drama, Thriller</td>\n",
       "      <td>NaN</td>\n",
       "      <td>Add a Plot</td>\n",
       "      <td>Director:Nicolai Rohde|     Stars:Felix Klare,...</td>\n",
       "      <td>NaN</td>\n",
       "      <td>NaN</td>\n",
       "    </tr>\n",
       "    <tr>\n",
       "      <th>9995</th>\n",
       "      <td>Arcane</td>\n",
       "      <td>2021–</td>\n",
       "      <td>Animation, Action, Adventure</td>\n",
       "      <td>NaN</td>\n",
       "      <td>Add a Plot</td>\n",
       "      <td></td>\n",
       "      <td>NaN</td>\n",
       "      <td>NaN</td>\n",
       "    </tr>\n",
       "    <tr>\n",
       "      <th>9996</th>\n",
       "      <td>Heart of Invictus</td>\n",
       "      <td>2022–</td>\n",
       "      <td>Documentary, Sport</td>\n",
       "      <td>NaN</td>\n",
       "      <td>Add a Plot</td>\n",
       "      <td>Director:Orlando von Einsiedel|     Star:Princ...</td>\n",
       "      <td>NaN</td>\n",
       "      <td>NaN</td>\n",
       "    </tr>\n",
       "    <tr>\n",
       "      <th>9997</th>\n",
       "      <td>The Imperfects</td>\n",
       "      <td>2021–</td>\n",
       "      <td>Adventure, Drama, Fantasy</td>\n",
       "      <td>NaN</td>\n",
       "      <td>Add a Plot</td>\n",
       "      <td>Director:Jovanka Vuckovic|     Stars:Morgan Ta...</td>\n",
       "      <td>NaN</td>\n",
       "      <td>NaN</td>\n",
       "    </tr>\n",
       "    <tr>\n",
       "      <th>9998</th>\n",
       "      <td>The Imperfects</td>\n",
       "      <td>2021–</td>\n",
       "      <td>Adventure, Drama, Fantasy</td>\n",
       "      <td>NaN</td>\n",
       "      <td>Add a Plot</td>\n",
       "      <td>Director:Jovanka Vuckovic|     Stars:Morgan Ta...</td>\n",
       "      <td>NaN</td>\n",
       "      <td>NaN</td>\n",
       "    </tr>\n",
       "  </tbody>\n",
       "</table>\n",
       "<p>9490 rows × 8 columns</p>\n",
       "</div>"
      ],
      "text/plain": [
       "                                   Movies       Year  \\\n",
       "0                           Blood Red Sky       2021   \n",
       "1     Masters of the Universe: Revelation      2021–   \n",
       "2                        The Walking Dead  2010–2022   \n",
       "3                          Rick and Morty      2013–   \n",
       "4                         Army of Thieves       2021   \n",
       "...                                   ...        ...   \n",
       "9993                            Totenfrau      2022–   \n",
       "9995                               Arcane      2021–   \n",
       "9996                    Heart of Invictus      2022–   \n",
       "9997                       The Imperfects      2021–   \n",
       "9998                       The Imperfects      2021–   \n",
       "\n",
       "                             Genre  Rating  \\\n",
       "0         Action, Horror, Thriller     6.1   \n",
       "1     Animation, Action, Adventure     5.0   \n",
       "2          Drama, Horror, Thriller     8.2   \n",
       "3     Animation, Adventure, Comedy     9.2   \n",
       "4            Action, Crime, Horror     NaN   \n",
       "...                            ...     ...   \n",
       "9993               Drama, Thriller     NaN   \n",
       "9995  Animation, Action, Adventure     NaN   \n",
       "9996            Documentary, Sport     NaN   \n",
       "9997     Adventure, Drama, Fantasy     NaN   \n",
       "9998     Adventure, Drama, Fantasy     NaN   \n",
       "\n",
       "                                               One-line  \\\n",
       "0     A woman with a mysterious illness is forced in...   \n",
       "1     The war for Eternia begins again in what may b...   \n",
       "2     Sheriff Deputy Rick Grimes wakes up from a com...   \n",
       "3     An animated series that follows the exploits o...   \n",
       "4     A prequel, set before the events of Army of th...   \n",
       "...                                                 ...   \n",
       "9993                                         Add a Plot   \n",
       "9995                                         Add a Plot   \n",
       "9996                                         Add a Plot   \n",
       "9997                                         Add a Plot   \n",
       "9998                                         Add a Plot   \n",
       "\n",
       "                                                  Start    Votes  Runtime  \n",
       "0     Director:Peter Thorwarth|     Stars:Peri Baume...   21,062    121.0  \n",
       "1     Stars:Chris Wood, Sarah Michelle Gellar, Lena ...   17,870     25.0  \n",
       "2     Stars:Andrew Lincoln, Norman Reedus, Melissa M...  885,805     44.0  \n",
       "3     Stars:Justin Roiland, Chris Parnell, Spencer G...  414,849     23.0  \n",
       "4     Director:Matthias Schweighöfer|     Stars:Matt...      NaN      NaN  \n",
       "...                                                 ...      ...      ...  \n",
       "9993  Director:Nicolai Rohde|     Stars:Felix Klare,...      NaN      NaN  \n",
       "9995                                                         NaN      NaN  \n",
       "9996  Director:Orlando von Einsiedel|     Star:Princ...      NaN      NaN  \n",
       "9997  Director:Jovanka Vuckovic|     Stars:Morgan Ta...      NaN      NaN  \n",
       "9998  Director:Jovanka Vuckovic|     Stars:Morgan Ta...      NaN      NaN  \n",
       "\n",
       "[9490 rows x 8 columns]"
      ]
     },
     "execution_count": 17,
     "metadata": {},
     "output_type": "execute_result"
    }
   ],
   "source": [
    "movies_df = cleanStringData(movies_df)\n",
    "movies_df"
   ]
  },
  {
   "cell_type": "code",
   "execution_count": 18,
   "metadata": {},
   "outputs": [
    {
     "data": {
      "text/plain": [
       "array(['Action, Horror, Thriller', 'Animation, Action, Adventure',\n",
       "       'Drama, Horror, Thriller', 'Animation, Adventure, Comedy',\n",
       "       'Action, Crime, Horror', 'Action, Crime, Drama', 'Drama, Romance',\n",
       "       'Crime, Drama, Mystery', 'Comedy', 'Action, Adventure, Thriller',\n",
       "       'Crime, Drama, Fantasy', 'Drama, Horror, Mystery',\n",
       "       'Comedy, Drama, Romance', 'Crime, Drama, Thriller', 'Drama',\n",
       "       'Comedy, Drama', 'Drama, Fantasy, Horror', 'Comedy, Romance',\n",
       "       'Action, Adventure, Drama', 'Crime, Drama',\n",
       "       'Drama, History, Romance', 'Horror, Mystery', 'Comedy, Crime',\n",
       "       'Action, Drama, History', 'Action, Adventure, Crime',\n",
       "       'Action, Adventure, Fantasy', 'Action, Crime, Mystery',\n",
       "       'Drama, Fantasy, Romance', 'Drama, Sci-Fi, Thriller',\n",
       "       'Biography, Drama, History', 'Crime, Thriller',\n",
       "       'Comedy, Crime, Drama', 'Drama, Mystery, Thriller',\n",
       "       'Action, Adventure, Mystery', 'Action, Comedy',\n",
       "       'Crime, Drama, Horror', 'Drama, Mystery, Sci-Fi',\n",
       "       'Action, Comedy, Crime', 'Drama, Family',\n",
       "       'Action, Adventure, Sci-Fi', 'Animation, Comedy',\n",
       "       'Action, Comedy, Drama', 'Crime, Horror, Thriller',\n",
       "       'Action, Adventure, Comedy', 'Animation, Comedy, Drama',\n",
       "       'Adventure, Fantasy, Romance', 'Action, Drama, Fantasy',\n",
       "       'Action, Adventure, Biography', 'Comedy, Drama, Fantasy',\n",
       "       'Action, Adventure, Horror', 'Crime, Drama, Romance',\n",
       "       'Adventure, Thriller', 'Biography, Crime, Drama',\n",
       "       'Documentary, Crime, Mystery', 'Action, Drama, Horror',\n",
       "       'Action, Adventure', 'Animation, Action, Fantasy',\n",
       "       'Comedy, Drama, Music', 'Action, Crime, Sport', 'Action, Drama',\n",
       "       'Horror', 'Drama, Mystery, Romance', 'Animation, Action, Comedy',\n",
       "       'Animation, Short, Comedy', 'Thriller', 'Adventure, Fantasy',\n",
       "       'Action, Drama, Sci-Fi', 'Game-Show, Reality-TV, Romance',\n",
       "       'Comedy, Crime, Thriller', 'Drama, Sci-Fi', 'Musical, Romance',\n",
       "       'Documentary', 'Action, Drama, Mystery', 'Action, Thriller',\n",
       "       'Animation, Crime, Drama', 'Adventure, Drama', 'Mystery, Thriller',\n",
       "       'Reality-TV, Romance', 'Animation, Adventure, Family',\n",
       "       'Animation, Action, Horror', 'Drama, Fantasy', 'Drama, Thriller',\n",
       "       'Reality-TV', 'Documentary, Biography, History',\n",
       "       'Adventure, Sci-Fi', 'Animation, Drama, Romance',\n",
       "       'Adventure, Comedy, Crime', 'Comedy, Fantasy, Romance',\n",
       "       'Adventure, Drama, Family', 'Action, Crime, Thriller',\n",
       "       'Biography, Drama, Sport', 'Comedy, Family, Sci-Fi',\n",
       "       'Animation, Comedy, Romance', 'Animation, Drama, Fantasy',\n",
       "       'Drama, Fantasy, Sci-Fi', 'Adventure, Horror, Thriller',\n",
       "       'Action, Comedy, War', 'Family, Fantasy, Musical',\n",
       "       'Horror, Sci-Fi', 'Comedy, Horror', 'Adventure, Drama, Horror',\n",
       "       'Drama, Western', 'Drama, History, Thriller',\n",
       "       'Comedy, Drama, Western', 'Drama, Music, Romance',\n",
       "       'Horror, Sci-Fi, Thriller', 'Biography, Drama',\n",
       "       'Drama, Romance, Western', 'Comedy, Crime, Romance',\n",
       "       'Comedy, Drama, Family', 'Drama, Fantasy, Mystery',\n",
       "       'Action, Sci-Fi, Thriller', 'Comedy, Drama, Sport',\n",
       "       'Crime, Drama, History', 'Drama, Family, Romance',\n",
       "       'Adventure, Comedy, Drama', 'Game-Show, Reality-TV',\n",
       "       'Documentary, Crime, History', 'Crime, Mystery, Thriller',\n",
       "       'Comedy, Drama, Musical', 'Adventure, Drama, History',\n",
       "       'Adventure, Comedy, Reality-TV', 'Family, Fantasy, Mystery',\n",
       "       'Biography, Comedy', 'Comedy, Music', 'Adventure, Comedy, Romance',\n",
       "       'Comedy, Drama, Sci-Fi', 'Drama, Horror, Music',\n",
       "       'Biography, Comedy, Drama', 'Action, Biography, Drama',\n",
       "       'Adventure, Drama, Mystery', 'Comedy, Musical',\n",
       "       'Animation, Adventure, Drama', 'Comedy, Family',\n",
       "       'Action, Horror, Sci-Fi', 'Drama, Horror',\n",
       "       'Action, Fantasy, Thriller', 'Drama, Family, Fantasy',\n",
       "       'Action, Crime, Fantasy', 'Animation, Action, Drama',\n",
       "       'Action, Fantasy, Mystery', 'Action, Comedy, Horror',\n",
       "       'Horror, Mystery, Thriller', 'Adventure, Drama, Fantasy',\n",
       "       'Action, Comedy, Family', 'Drama, History',\n",
       "       'Action, Drama, Thriller', 'Action, Mystery, Thriller',\n",
       "       'Short, Family', 'Adventure, Comedy, Fantasy',\n",
       "       'Comedy, Reality-TV', 'Horror, Thriller',\n",
       "       'Comedy, Drama, Thriller', 'Action, Adventure, Family',\n",
       "       'Crime, Mystery, Sci-Fi', 'Action, Comedy, Romance',\n",
       "       'Adventure, Biography, Drama', 'Comedy, Sci-Fi',\n",
       "       'Drama, Romance, War', 'Animation, Family, Fantasy',\n",
       "       'Adventure, Fantasy, Sci-Fi', 'Crime, Horror, Mystery',\n",
       "       'Drama, Family, Sport', 'Animation, Action, Crime',\n",
       "       'Animation, Drama, Family', 'Drama, Horror, Sci-Fi',\n",
       "       'Biography, Drama, Romance', 'Action, Horror, Mystery',\n",
       "       'Drama, Family, Reality-TV', 'Comedy, Mystery',\n",
       "       'Action, Romance, Thriller', 'Action, Crime, Sci-Fi',\n",
       "       'Drama, Music, Musical', 'Documentary, Sport', 'Comedy, Sport',\n",
       "       'Documentary, Biography, Drama', 'Comedy, Family, Romance',\n",
       "       'Biography, Drama, Family', 'Animation, Drama, Music',\n",
       "       'Comedy, Family, Music', 'Action, Comedy, Fantasy',\n",
       "       'Adventure, Family, Fantasy', 'Action, Crime',\n",
       "       'Adventure, Drama, War', 'Sci-Fi', 'Drama, History, Sport',\n",
       "       'Drama, Music', 'Horror, Mystery, Sci-Fi', 'Drama, Mystery',\n",
       "       'Drama, War', 'Documentary, Biography, Crime',\n",
       "       'Documentary, Biography, Sport', 'Drama, History, War',\n",
       "       'Animation, Adventure, Fantasy', 'Action, Western',\n",
       "       'Adventure, Comedy, Family', 'Action, Fantasy, Sci-Fi',\n",
       "       'Crime, Drama, Sci-Fi', 'Comedy, Thriller',\n",
       "       'Animation, Comedy, Family', 'Mystery, Sci-Fi, Thriller',\n",
       "       'Crime, Sci-Fi, Thriller', 'Animation, Adventure',\n",
       "       'Documentary, Crime', 'Biography, Drama, Musical',\n",
       "       'Action, Biography, Crime', 'Biography, Drama, Music',\n",
       "       'Drama, Family, Musical', 'Crime, Drama, Music',\n",
       "       'Documentary, Drama', 'Animation, Drama, Mystery',\n",
       "       'Crime, Mystery, Romance', 'Drama, Romance, Sci-Fi',\n",
       "       'Fantasy, Mystery, Romance', 'Drama, Fantasy, Thriller',\n",
       "       'Family, Fantasy, Horror', 'Comedy, Horror, Thriller',\n",
       "       'Animation, Biography, Drama', 'Drama, Sport',\n",
       "       'Drama, Thriller, War', 'Horror, Music, Thriller',\n",
       "       'Comedy, Fantasy, Musical', 'Documentary, Drama, History',\n",
       "       'Documentary, Crime, Sport', 'Comedy, Drama, War',\n",
       "       'Action, Drama, Sport', 'Comedy, Mystery, Romance',\n",
       "       'Documentary, Crime, Drama', 'Action, Mystery, Sci-Fi',\n",
       "       'Game-Show', 'Documentary, Adventure', 'Action, Fantasy, Horror',\n",
       "       'Action, Drama, War', 'Music', 'Crime, Drama, Western',\n",
       "       'Adventure, Drama, Thriller', 'Sci-Fi, Thriller',\n",
       "       'Fantasy, Horror, Romance', 'Drama, Romance, Thriller',\n",
       "       'Crime, Drama, Film-Noir', 'Crime, History, Thriller',\n",
       "       'Drama, History, Western', 'Family, Fantasy',\n",
       "       'Fantasy, Horror, Sci-Fi', 'Comedy, Crime, Mystery',\n",
       "       'Adventure, Drama, Sci-Fi', 'Fantasy, Horror, Mystery',\n",
       "       'Action, War', 'Documentary, Adventure, Drama',\n",
       "       'Comedy, Fantasy, Horror', 'Animation, Action',\n",
       "       'Short, Drama, Sci-Fi', 'Short, Drama, Romance',\n",
       "       'Drama, History, Horror', 'Documentary, Drama, Mystery',\n",
       "       'Animation, Drama, Horror', 'Short, Action, Comedy',\n",
       "       'Comedy, Family, Fantasy', 'Horror, Reality-TV',\n",
       "       'Adventure, Comedy, Mystery', 'Documentary, Biography, Comedy',\n",
       "       'Comedy, Fantasy', 'Adventure, Romance',\n",
       "       'Adventure, Family, Horror', 'Crime', 'Animation, Comedy, Sport',\n",
       "       'Biography, Crime', 'Animation, Adventure, Horror',\n",
       "       'Documentary, Short, History', 'Action, Drama, Western',\n",
       "       'Romance, Sci-Fi', 'Documentary, Comedy, History',\n",
       "       'Animation, Short, Adventure', 'Documentary, Crime, Music',\n",
       "       'Romance', 'Action, Fantasy, Western', 'Documentary, Biography',\n",
       "       'Adventure, Drama, Romance', 'Action', 'Action, Comedy, Thriller',\n",
       "       'Biography, Drama, Thriller', 'Documentary, Action, Adventure',\n",
       "       'History, Sport, Thriller', 'Crime, Fantasy, Thriller',\n",
       "       'Animation, Family', 'Action, Sci-Fi', 'Action, Adventure, War',\n",
       "       'Family, Game-Show', 'Animation, Comedy, Fantasy', 'Animation',\n",
       "       'Drama, Musical', 'Biography, Drama, War',\n",
       "       'Comedy, Romance, Sci-Fi', 'Documentary, History, War',\n",
       "       'Documentary, History', 'Documentary, Family',\n",
       "       'Comedy, Crime, Family', 'Action, Fantasy',\n",
       "       'Action, Comedy, History', 'Drama, Fantasy, Sport',\n",
       "       'Documentary, Reality-TV', 'Crime, Drama, Family',\n",
       "       'Drama, Family, Music', 'Documentary, Comedy', 'Family',\n",
       "       'Short, Music', 'Fantasy, Horror', 'Animation, Short, Drama',\n",
       "       'Animation, Action, Family', 'Comedy, Fantasy, Mystery',\n",
       "       'Animation, Short, Action', 'Action, Romance, Sci-Fi',\n",
       "       'Documentary, Reality-TV, Romance', 'Fantasy, Romance',\n",
       "       'Comedy, Drama, Horror', 'Film-Noir, Thriller', 'Sport',\n",
       "       'Documentary, Short, Sport', 'Short, Comedy, Music',\n",
       "       'Comedy, Family, Musical', 'Documentary, Biography, Music',\n",
       "       'Drama, Romance, Sport', 'Animation, Action, Romance',\n",
       "       'Comedy, Horror, Sci-Fi', 'Family, Sport', 'Biography, Thriller',\n",
       "       'Animation, Action, Sci-Fi', 'Short, Drama',\n",
       "       'Comedy, Musical, Romance', 'Documentary, Music',\n",
       "       'Comedy, Crime, Western', 'Documentary, War',\n",
       "       'Comedy, Horror, Romance', 'Action, Romance',\n",
       "       'Action, Mystery, Romance', 'Short, Crime, Drama',\n",
       "       'Comedy, Music, Romance', 'Action, Drama, Romance',\n",
       "       'Comedy, Music, Musical', 'Comedy, Mystery, Sci-Fi',\n",
       "       'Short, Action, Adventure', 'Documentary, Animation, Sci-Fi',\n",
       "       'Drama, Family, Sci-Fi', 'Biography, Music',\n",
       "       'Short, Comedy, Crime', 'Adventure', 'Music, Romance',\n",
       "       'Animation, Adventure, Sci-Fi', 'Animation, Action, History',\n",
       "       'Comedy, Horror, Reality-TV', 'Talk-Show',\n",
       "       'Documentary, Adventure, Game-Show', 'Western',\n",
       "       'Action, Thriller, War', 'Family, Sci-Fi, Thriller',\n",
       "       'Family, Romance', 'Fantasy, Horror, Thriller',\n",
       "       'Documentary, Animation', 'Comedy, Talk-Show',\n",
       "       'Short, Adventure, Comedy', 'Documentary, Short, Sci-Fi',\n",
       "       'Crime, Film-Noir, Thriller', 'Drama, Family, Mystery',\n",
       "       'Drama, History, Music', 'Comedy, News, Talk-Show',\n",
       "       'Drama, Musical, Romance', 'Comedy, Drama, Mystery',\n",
       "       'Crime, Film-Noir, Mystery', 'Animation, Short',\n",
       "       'Adventure, Family, Sci-Fi', 'Game-Show, Horror, Reality-TV',\n",
       "       'Comedy, Horror, Mystery', 'Action, Comedy, Sci-Fi',\n",
       "       'Adventure, Fantasy, Horror', 'Short, Horror, Mystery',\n",
       "       'Animation, Comedy, Thriller', 'Documentary, Adventure, History',\n",
       "       'Animation, Sport', 'Music, Reality-TV', 'Documentary, Game-Show',\n",
       "       'Adventure, Comedy', 'Animation, Fantasy',\n",
       "       'Family, Adventure, Comedy', 'Animation, Family, Musical',\n",
       "       'Drama, Reality-TV', 'Comedy, Romance, Sport',\n",
       "       'Documentary, Mystery, Reality-TV', 'Action, Family',\n",
       "       'Documentary, Horror', 'Documentary, Biography, News',\n",
       "       'Documentary, Short, Drama', 'Documentary, Short',\n",
       "       'Action, Horror', 'Comedy, Horror, Talk-Show',\n",
       "       'Adventure, Reality-TV', 'Family, Music, Romance',\n",
       "       'Horror, Mystery, Romance', 'Fantasy, Music', 'Fantasy',\n",
       "       'Animation, Fantasy, Romance', 'Comedy, Family, Horror',\n",
       "       'Game-Show, Music', 'Documentary, Drama, Sport',\n",
       "       'Drama, Film-Noir, Mystery', 'Documentary, Short, Crime',\n",
       "       'Documentary, Reality-TV, Talk-Show', 'Short, Comedy',\n",
       "       'Animation, Comedy, Sci-Fi', 'Biography', 'Romance, Thriller',\n",
       "       'Drama, Horror, Romance', 'Biography, History, War',\n",
       "       'Family, Talk-Show', 'Documentary, Comedy, Musical',\n",
       "       'Drama, Thriller, Western', 'Documentary, Crime, Thriller',\n",
       "       'Crime, Drama, Sport', 'Documentary, Short, War',\n",
       "       'Drama, Family, History', 'War', 'Documentary, Romance',\n",
       "       'Mystery, Romance, Thriller', 'Comedy, Romance, Western',\n",
       "       'Documentary, Talk-Show', 'Fantasy, Thriller',\n",
       "       'Action, Fantasy, History', 'Documentary, Reality-TV, Sport',\n",
       "       'Short, Comedy, Talk-Show', 'Action, Mystery',\n",
       "       'Documentary, Short, Biography', 'Documentary, Animation, Comedy',\n",
       "       'Documentary, Biography, Family', 'Action, Biography, History',\n",
       "       'Documentary, News', 'Animation, Horror',\n",
       "       'Documentary, History, Sport', 'Documentary, Mystery',\n",
       "       'Animation, Comedy, Musical', 'Documentary, Comedy, Drama',\n",
       "       'Animation, Fantasy, Sci-Fi', 'Documentary, Animation, History',\n",
       "       'Comedy, Fantasy, Reality-TV', 'Game-Show, Reality-TV, Sport',\n",
       "       'Comedy, History, Romance', 'Biography, Drama, Mystery',\n",
       "       'Adventure, Drama, Sport', 'Family, Reality-TV',\n",
       "       'Adventure, Mystery', 'Documentary, History, News',\n",
       "       'Family, Musical', 'Animation, Drama, Sport',\n",
       "       'Action, Crime, Romance', 'Documentary, Horror, Mystery',\n",
       "       'Documentary, Action, Biography', 'Romance, Sport',\n",
       "       'Biography, History', 'News', 'Horror, Romance',\n",
       "       'Adventure, Family', 'Drama, Sci-Fi, War',\n",
       "       'Documentary, Action, History', 'Short, Horror',\n",
       "       'Documentary, Biography, War', 'Adventure, Music, Sci-Fi',\n",
       "       'Mystery', 'Animation, Family, Sci-Fi', 'Musical',\n",
       "       'Documentary, Drama, Family', 'Short, Mystery, Sci-Fi',\n",
       "       'Comedy, Documentary', 'Short', 'Documentary, Western',\n",
       "       'Documentary, Short, Family', 'Animation, Short, Mystery',\n",
       "       'Animation, Short, Family', 'Comedy, Animation',\n",
       "       'Documentary, Biography, Romance', 'Documentary, Drama, Fantasy',\n",
       "       'Short, Documentary', 'Documentary, Comedy, Music',\n",
       "       'Music, Musical', 'Family, Music', 'Game-Show, Music, Reality-TV',\n",
       "       'Action, History', 'Documentary, Adventure, Biography',\n",
       "       'Short, Biography, Drama', 'Documentary, Adventure, News',\n",
       "       'Drama, Fantasy, History', 'Drama, Short',\n",
       "       'Action, Adventure, Sport', 'Crime, Horror',\n",
       "       'History, Music, Talk-Show', 'Comedy, Drama, History',\n",
       "       'Documentary, Crime, News', 'Documentary, Music, Sport',\n",
       "       'Documentary, History, Mystery', 'Documentary, Short, Comedy',\n",
       "       'Short, Sci-Fi', 'Crime, Comedy', 'Thriller, Mystery',\n",
       "       'Comedy, Mystery, Thriller', 'Documentary, History, Music',\n",
       "       'Documentary, Family, History', 'Documentary, Action, Crime',\n",
       "       'Short, History', 'Short, Reality-TV', 'Short, Action',\n",
       "       'Biography, Family, News', 'News, Reality-TV', 'Talk-Show, Sport'],\n",
       "      dtype=object)"
      ]
     },
     "execution_count": 18,
     "metadata": {},
     "output_type": "execute_result"
    }
   ],
   "source": [
    "# checking to make sure extra white space is taken out\n",
    "movies_df['Genre'].unique()"
   ]
  },
  {
   "attachments": {},
   "cell_type": "markdown",
   "metadata": {},
   "source": [
    "Need to remove commas from Votes and concatenate \"-present\" to Year"
   ]
  },
  {
   "cell_type": "code",
   "execution_count": 19,
   "metadata": {},
   "outputs": [
    {
     "data": {
      "text/plain": [
       "0        21062\n",
       "1        17870\n",
       "2       885805\n",
       "3       414849\n",
       "4          NaN\n",
       "         ...  \n",
       "9993       NaN\n",
       "9995       NaN\n",
       "9996       NaN\n",
       "9997       NaN\n",
       "9998       NaN\n",
       "Name: Votes, Length: 9490, dtype: object"
      ]
     },
     "execution_count": 19,
     "metadata": {},
     "output_type": "execute_result"
    }
   ],
   "source": [
    "# removing the commas from this series\n",
    "movies_df['Votes'] = movies_df['Votes'].str.replace(',','')\n",
    "\n",
    "movies_df['Votes']"
   ]
  },
  {
   "cell_type": "code",
   "execution_count": 21,
   "metadata": {},
   "outputs": [
    {
     "data": {
      "text/plain": [
       "array(['2021', '2021–', '2010–2022', '2013–', '2020–', '2006–2013',\n",
       "       '2019–', '2016–2021', '2011–', '2005–', '2008–2013', '2017–',\n",
       "       '2017–2021', '2016–', '1994–2004', '2014–', '2013–2020', '2015–',\n",
       "       '2005–2020', '2013–2022', '2003–', '2009–2020', 'I 2018–',\n",
       "       '2010–2015', '2011–2019', '2015–2020', '2005–2014', '2009–2015',\n",
       "       '2008–2014', '2016–2018', '2009–2017', '2020', '2018–2021',\n",
       "       '2017–2020', '1987–1994', '2018–', '2012–', '2014–2020',\n",
       "       '2011–2018', '2005–2017', '2017', '2007–2015', '2000–2007',\n",
       "       'II 2007–', '1993', '1999–2022', '2015–2018', '2014–2019', '2016',\n",
       "       '2012–2020', '2013–2019', '2007–2012', '2011–2020', '2010–2017',\n",
       "       '2000–2015', '2015–2021', '2001', '1997–', '2011–2017',\n",
       "       '1993–1999', '1989–1998', '2010–2013', '2010–2020', '2003–2019',\n",
       "       'I 2019', '2017–2019', '1975', '2005–2008', '1995–2001', '2006',\n",
       "       '2015–2017', '2008–2020', '1984–1996', '2010–', '2014', '2000',\n",
       "       '2013–2018', '2009–2016', '2016–2020', '2021 TV Special', '2003',\n",
       "       '1998–2003', 'I 2017', '1966–1969', '2009–', '2019', '1990–1991',\n",
       "       '2012', '1995', '2020–2021', '2013–2017', '2015', '2019–2020',\n",
       "       '2017–2018', '2013–2015', '2012–2017', 'I 2013–2016', '2002',\n",
       "       'I 2020', 'III 2021', '2018', 'II 2016', '1976', '1978',\n",
       "       '2016–2019', '2009–2014', '2022', '2011–2014', '2007–2013',\n",
       "       '2006–2007', '2002–2007', '2014–2017', '2010–2019', '2008–',\n",
       "       '2012–2019', '2014–2016', '2009–2012', '2018–2020', '2001–2005',\n",
       "       '2011–2015', '2014–2018', '2015–2019', '1982–1993', '1998–',\n",
       "       '1968', '2010–2018', '2014–2021', '2007–2010', '2011', '2013–2021',\n",
       "       '1990–1996', '2004', '2007–2014', '1996–2001', '2013', '2008',\n",
       "       '1999–2000', '2012–2014', 'I 2013', '2012–2018', '2018–2019',\n",
       "       '2009–2013', '1971', '2004–', '1989', '1998', '2001–2018',\n",
       "       '1987–1995', 'I 2014', '1998–2020', 'I 2015', '1997', '2004–2013',\n",
       "       '2002–', '2010', 'I 2016', 'II 2017–', 'I 2018', 'I 2021',\n",
       "       '2004–2012', '2019–2021', 'IV 2020', '2006–2010', '2006–2012',\n",
       "       '1996', '1994–2000', 'II 2020', '1980', 'I 2011', '1995–1996',\n",
       "       '2016–2017', '1993–1996', 'II 2019–', '2009', '1962', '1991',\n",
       "       '2022–', 'II 2017', 'I 2012', '1984', '2011–2016', '2009–2019',\n",
       "       'II 2020–', '2006–2021', 'I 2010', '2012–2015', 'I 2013–2014',\n",
       "       '1960', '1988', '2007', '1987', '2010–2011', '1969', '2006–2011',\n",
       "       'II 2019', '1961', '1979', 'II 2022', '2014–2015', '1956',\n",
       "       '2013–2016', 'III 2018', '2005', 'II 2012–', 'II 2013', '1983',\n",
       "       '2002–2019', '2013 TV Movie', 'II 2015', 'I 2012–2015',\n",
       "       '1975–1979', '1990', nan, 'II 2018', 'IV 2021', '2015–2016',\n",
       "       '1995–1998', '1986', '2012–2013', '1966', '2011–2012', '2011–2021',\n",
       "       '2016 Video', '2017 TV Movie', '2009–2011', '2004–2018', '1967',\n",
       "       '1984–', '1994', '2003–2006', 'III 2015', '1974', '2000–2004',\n",
       "       '1984–2021', 'I', 'II 2021', '1994–1999', 'III', '1992',\n",
       "       '1969–1974', '2012–2016', '2013–2014', 'I 2008', '1958',\n",
       "       '2008–2009', 'II 2004', 'III 2019', '2006–2009', '2011–2013',\n",
       "       '2007–2008', '1988–1999', '2010–2012', '2010–2014', 'II 2012',\n",
       "       '1932', '2014 TV Movie', '1941', '2006–', '1992–1995',\n",
       "       '2016 TV Special', '2020 TV Movie', '2008–2010', 'II',\n",
       "       '2020 Video', '1999–', '1950', '2020 TV Special', '1992–2014',\n",
       "       '2002–2005', '2013 TV Special', 'I 2021–', '1999', '2016 TV Movie',\n",
       "       'XII', 'VII', '2021 TV Movie', '1983–', '1996 Video',\n",
       "       '1993 TV Movie', '2018 TV Movie', '2005–2009', '2001–2002',\n",
       "       '2015 TV Movie', 'I 2020–', '2011 Video', '2008 Video',\n",
       "       '2012 Video', '1946', 'II 2014', '2019 Video', '1981–1989',\n",
       "       'IV 2016', 'III 2016', '2019 TV Movie', '1952', '2007 Video',\n",
       "       '2000–2014', '1992–', '1957', '2003–2007', 'IV', '2008–2017',\n",
       "       '2008–2019', '1998–2000', 'I 2004', '2007–2016', '2017 TV Special',\n",
       "       '2009 TV Movie', '2013 Video', '2017 Video', '1994–1996',\n",
       "       'IV 2017', 'IV 2018', '2007–', '1954', '2012 TV Movie', '1995–',\n",
       "       '1982', '1955', '2014 TV Short', 'I 2022–', 'I 2019–2020',\n",
       "       '1975 TV Movie', '2019 TV Special', '2015 TV Special',\n",
       "       '2015 TV Short', '2018 TV Special', '1948', '2014 Video',\n",
       "       'VI 2014', '2003–2013', '2021 Video', '1947', '2001–', 'II 2021–',\n",
       "       '1997–2000', 'III 2020', 'I 2019–', '1993–', '1977', 'I 2009', 'V',\n",
       "       '2023', 'I 2000', 'TV Special', 'II 2011', 'TV Movie', '1945',\n",
       "       '2015 Video', 'III 2010', '2009 Video', '1998–2002',\n",
       "       '2008 TV Movie', '2019 TV Short', '2004 Video', 'II 1998',\n",
       "       '2014 TV Special', '1953', '1985', 'VIII', '1973',\n",
       "       '2012 TV Special', 'V 2016', '1972', 'V 2018', 'II 2010',\n",
       "       '2021 TV Short', 'VI 2019', 'I 2005', '1965', '2010–2016',\n",
       "       'V 2010', '2005–2013', '2006 TV Special', '2006 Video',\n",
       "       '2011 TV Movie', '1988 TV Movie', 'XXIII', '2011 TV Special',\n",
       "       '2020 TV Short', 'VI 2018', '2008 TV Special', '1998–1999',\n",
       "       'I 2015–', 'III 2012', 'VI', '2010 TV Special', 'III 2017',\n",
       "       '1993 TV Special', '2004–2005', '1992 Video', '1989 TV Special',\n",
       "       'III 2014', '1966 TV Special', '1999 TV Movie', '1987 TV Special',\n",
       "       '1944', '1998 TV Special', '2006 TV Movie', '2022 TV Special',\n",
       "       '1989 Video', '1991 TV Special', 'XLI', 'IV 2014', '2005 Video',\n",
       "       '2007 TV Special', '1965 TV Special', '1990 TV Special',\n",
       "       '2001 TV Special', 'IX', 'II 2016–', 'XIV 2017', '2009–2010',\n",
       "       'XIII', 'II 2012–2019', '1933', 'II 2009', '2010 Video',\n",
       "       '2009 TV Special', 'XI', '1938', '2003 TV Special', 'Video',\n",
       "       'VI 2016', 'III 2011', '2007 TV Movie', '2017 TV Short',\n",
       "       '2018 Video', '2000 Video', '1995 Video', '2003 Video',\n",
       "       'II 2016 TV Movie', '1998 Video', '2005 TV Special', '2004–2009',\n",
       "       '2018 Video Game', '1988–', '1985–'], dtype=object)"
      ]
     },
     "execution_count": 21,
     "metadata": {},
     "output_type": "execute_result"
    }
   ],
   "source": [
    "# movies_df['Year'] = movies_df['Year'].replace.str.\n",
    "movies_df['Year'].unique()"
   ]
  },
  {
   "cell_type": "markdown",
   "metadata": {},
   "source": []
  },
  {
   "cell_type": "markdown",
   "metadata": {},
   "source": []
  }
 ],
 "metadata": {
  "kernelspec": {
   "display_name": "Python 3",
   "language": "python",
   "name": "python3"
  },
  "language_info": {
   "codemirror_mode": {
    "name": "ipython",
    "version": 3
   },
   "file_extension": ".py",
   "mimetype": "text/x-python",
   "name": "python",
   "nbconvert_exporter": "python",
   "pygments_lexer": "ipython3",
   "version": "3.10.3"
  },
  "orig_nbformat": 4,
  "vscode": {
   "interpreter": {
    "hash": "949777d72b0d2535278d3dc13498b2535136f6dfe0678499012e853ee9abcab1"
   }
  }
 },
 "nbformat": 4,
 "nbformat_minor": 2
}
