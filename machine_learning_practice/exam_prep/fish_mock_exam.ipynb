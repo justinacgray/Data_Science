{
 "cells": [
  {
   "attachments": {},
   "cell_type": "markdown",
   "metadata": {},
   "source": [
    "Steps:\n",
    "1. Import libraries \n",
    "2. Load dataset\n",
    "3. Make a copy of original dataset and use one for continued pre-processing\n",
    "4. Inspect the data | Check for inconsistencies and missing values, duplicates\n",
    "5. Split the data set in train/test\n",
    "6. Separate the categorical and numerical features\n",
    "7. Check for missing and handle missing values in categorical and numerical using simple imputer\n",
    "8. Fit model and evaluate it"
   ]
  },
  {
   "attachments": {},
   "cell_type": "markdown",
   "metadata": {},
   "source": [
    "# Step 1: Import libraries"
   ]
  },
  {
   "cell_type": "code",
   "execution_count": 1,
   "metadata": {},
   "outputs": [],
   "source": [
    "import pandas as pd\n",
    "import numpy as np\n",
    "from sklearn.metrics import mean_absolute_error, mean_squared_error, r2_score\n",
    "from sklearn import set_config\n",
    "from sklearn.model_selection import train_test_split\n",
    "from sklearn.compose import make_column_selector\n",
    "from sklearn.preprocessing import OneHotEncoder\n",
    "from sklearn.impute import SimpleImputer\n",
    "from sklearn.compose import ColumnTransformer\n",
    "from sklearn.pipeline import Pipeline\n",
    "from sklearn.preprocessing import StandardScaler\n",
    "set_config(display='diagram')"
   ]
  },
  {
   "attachments": {},
   "cell_type": "markdown",
   "metadata": {},
   "source": [
    "# Step 2: Load Dataset"
   ]
  },
  {
   "cell_type": "code",
   "execution_count": 2,
   "metadata": {},
   "outputs": [
    {
     "name": "stdout",
     "output_type": "stream",
     "text": [
      "<class 'pandas.core.frame.DataFrame'>\n",
      "RangeIndex: 159 entries, 0 to 158\n",
      "Data columns (total 7 columns):\n",
      " #   Column   Non-Null Count  Dtype  \n",
      "---  ------   --------------  -----  \n",
      " 0   Species  155 non-null    object \n",
      " 1   Weight   159 non-null    float64\n",
      " 2   Length1  157 non-null    float64\n",
      " 3   Length2  157 non-null    float64\n",
      " 4   Length3  150 non-null    float64\n",
      " 5   Height   156 non-null    float64\n",
      " 6   Width    157 non-null    float64\n",
      "dtypes: float64(6), object(1)\n",
      "memory usage: 8.8+ KB\n"
     ]
    },
    {
     "data": {
      "text/html": [
       "<div>\n",
       "<style scoped>\n",
       "    .dataframe tbody tr th:only-of-type {\n",
       "        vertical-align: middle;\n",
       "    }\n",
       "\n",
       "    .dataframe tbody tr th {\n",
       "        vertical-align: top;\n",
       "    }\n",
       "\n",
       "    .dataframe thead th {\n",
       "        text-align: right;\n",
       "    }\n",
       "</style>\n",
       "<table border=\"1\" class=\"dataframe\">\n",
       "  <thead>\n",
       "    <tr style=\"text-align: right;\">\n",
       "      <th></th>\n",
       "      <th>Species</th>\n",
       "      <th>Weight</th>\n",
       "      <th>Length1</th>\n",
       "      <th>Length2</th>\n",
       "      <th>Length3</th>\n",
       "      <th>Height</th>\n",
       "      <th>Width</th>\n",
       "    </tr>\n",
       "  </thead>\n",
       "  <tbody>\n",
       "    <tr>\n",
       "      <th>0</th>\n",
       "      <td>Bream</td>\n",
       "      <td>242.0</td>\n",
       "      <td>23.2</td>\n",
       "      <td>25.4</td>\n",
       "      <td>30.0</td>\n",
       "      <td>11.5200</td>\n",
       "      <td>4.0200</td>\n",
       "    </tr>\n",
       "    <tr>\n",
       "      <th>1</th>\n",
       "      <td>Bream</td>\n",
       "      <td>290.0</td>\n",
       "      <td>24.0</td>\n",
       "      <td>26.3</td>\n",
       "      <td>31.2</td>\n",
       "      <td>12.4800</td>\n",
       "      <td>4.3056</td>\n",
       "    </tr>\n",
       "    <tr>\n",
       "      <th>2</th>\n",
       "      <td>Bream</td>\n",
       "      <td>340.0</td>\n",
       "      <td>23.9</td>\n",
       "      <td>26.5</td>\n",
       "      <td>31.1</td>\n",
       "      <td>12.3778</td>\n",
       "      <td>4.6961</td>\n",
       "    </tr>\n",
       "    <tr>\n",
       "      <th>3</th>\n",
       "      <td>Bream</td>\n",
       "      <td>363.0</td>\n",
       "      <td>26.3</td>\n",
       "      <td>29.0</td>\n",
       "      <td>33.5</td>\n",
       "      <td>12.7300</td>\n",
       "      <td>4.4555</td>\n",
       "    </tr>\n",
       "    <tr>\n",
       "      <th>4</th>\n",
       "      <td>Bream</td>\n",
       "      <td>430.0</td>\n",
       "      <td>26.5</td>\n",
       "      <td>29.0</td>\n",
       "      <td>34.0</td>\n",
       "      <td>12.4440</td>\n",
       "      <td>5.1340</td>\n",
       "    </tr>\n",
       "  </tbody>\n",
       "</table>\n",
       "</div>"
      ],
      "text/plain": [
       "  Species  Weight  Length1  Length2  Length3   Height   Width\n",
       "0   Bream   242.0     23.2     25.4     30.0  11.5200  4.0200\n",
       "1   Bream   290.0     24.0     26.3     31.2  12.4800  4.3056\n",
       "2   Bream   340.0     23.9     26.5     31.1  12.3778  4.6961\n",
       "3   Bream   363.0     26.3     29.0     33.5  12.7300  4.4555\n",
       "4   Bream   430.0     26.5     29.0     34.0  12.4440  5.1340"
      ]
     },
     "execution_count": 2,
     "metadata": {},
     "output_type": "execute_result"
    }
   ],
   "source": [
    "path = './Fish - Fish.csv'\n",
    "fish_df = pd.read_csv(path)\n",
    "fish_df.info()\n",
    "fish_df.head()"
   ]
  },
  {
   "cell_type": "code",
   "execution_count": 3,
   "metadata": {},
   "outputs": [],
   "source": [
    "fish_df_copy = fish_df.copy()"
   ]
  },
  {
   "attachments": {},
   "cell_type": "markdown",
   "metadata": {},
   "source": [
    "# Step 4: Inspect the Data\n",
    "\n",
    "    There are 0 duplicates.  However, there seems to be some null values present based on initial observance of dataset"
   ]
  },
  {
   "cell_type": "code",
   "execution_count": 4,
   "metadata": {},
   "outputs": [
    {
     "data": {
      "text/plain": [
       "(159, 7)"
      ]
     },
     "execution_count": 4,
     "metadata": {},
     "output_type": "execute_result"
    }
   ],
   "source": [
    "fish_df.shape"
   ]
  },
  {
   "cell_type": "code",
   "execution_count": 5,
   "metadata": {},
   "outputs": [],
   "source": [
    "# reorder columns so that it is easier to search for target \n",
    "column_reordered = ['Species', 'Length1', 'Length2', 'Length3', 'Height', 'Width', 'Weight']\n",
    "\n",
    "fish_df = fish_df[column_reordered]"
   ]
  },
  {
   "cell_type": "code",
   "execution_count": 6,
   "metadata": {},
   "outputs": [
    {
     "data": {
      "text/html": [
       "<div>\n",
       "<style scoped>\n",
       "    .dataframe tbody tr th:only-of-type {\n",
       "        vertical-align: middle;\n",
       "    }\n",
       "\n",
       "    .dataframe tbody tr th {\n",
       "        vertical-align: top;\n",
       "    }\n",
       "\n",
       "    .dataframe thead th {\n",
       "        text-align: right;\n",
       "    }\n",
       "</style>\n",
       "<table border=\"1\" class=\"dataframe\">\n",
       "  <thead>\n",
       "    <tr style=\"text-align: right;\">\n",
       "      <th></th>\n",
       "      <th>Species</th>\n",
       "      <th>Length1</th>\n",
       "      <th>Length2</th>\n",
       "      <th>Length3</th>\n",
       "      <th>Height</th>\n",
       "      <th>Width</th>\n",
       "      <th>Weight</th>\n",
       "    </tr>\n",
       "  </thead>\n",
       "  <tbody>\n",
       "    <tr>\n",
       "      <th>0</th>\n",
       "      <td>Bream</td>\n",
       "      <td>23.2</td>\n",
       "      <td>25.4</td>\n",
       "      <td>30.0</td>\n",
       "      <td>11.5200</td>\n",
       "      <td>4.0200</td>\n",
       "      <td>242.0</td>\n",
       "    </tr>\n",
       "    <tr>\n",
       "      <th>1</th>\n",
       "      <td>Bream</td>\n",
       "      <td>24.0</td>\n",
       "      <td>26.3</td>\n",
       "      <td>31.2</td>\n",
       "      <td>12.4800</td>\n",
       "      <td>4.3056</td>\n",
       "      <td>290.0</td>\n",
       "    </tr>\n",
       "    <tr>\n",
       "      <th>2</th>\n",
       "      <td>Bream</td>\n",
       "      <td>23.9</td>\n",
       "      <td>26.5</td>\n",
       "      <td>31.1</td>\n",
       "      <td>12.3778</td>\n",
       "      <td>4.6961</td>\n",
       "      <td>340.0</td>\n",
       "    </tr>\n",
       "    <tr>\n",
       "      <th>3</th>\n",
       "      <td>Bream</td>\n",
       "      <td>26.3</td>\n",
       "      <td>29.0</td>\n",
       "      <td>33.5</td>\n",
       "      <td>12.7300</td>\n",
       "      <td>4.4555</td>\n",
       "      <td>363.0</td>\n",
       "    </tr>\n",
       "    <tr>\n",
       "      <th>4</th>\n",
       "      <td>Bream</td>\n",
       "      <td>26.5</td>\n",
       "      <td>29.0</td>\n",
       "      <td>34.0</td>\n",
       "      <td>12.4440</td>\n",
       "      <td>5.1340</td>\n",
       "      <td>430.0</td>\n",
       "    </tr>\n",
       "  </tbody>\n",
       "</table>\n",
       "</div>"
      ],
      "text/plain": [
       "  Species  Length1  Length2  Length3   Height   Width  Weight\n",
       "0   Bream     23.2     25.4     30.0  11.5200  4.0200   242.0\n",
       "1   Bream     24.0     26.3     31.2  12.4800  4.3056   290.0\n",
       "2   Bream     23.9     26.5     31.1  12.3778  4.6961   340.0\n",
       "3   Bream     26.3     29.0     33.5  12.7300  4.4555   363.0\n",
       "4   Bream     26.5     29.0     34.0  12.4440  5.1340   430.0"
      ]
     },
     "execution_count": 6,
     "metadata": {},
     "output_type": "execute_result"
    }
   ],
   "source": [
    "fish_df.head()"
   ]
  },
  {
   "attachments": {},
   "cell_type": "markdown",
   "metadata": {},
   "source": [
    "159 rows, 9 columns"
   ]
  },
  {
   "cell_type": "code",
   "execution_count": 7,
   "metadata": {},
   "outputs": [
    {
     "name": "stdout",
     "output_type": "stream",
     "text": [
      "checking for duplicates ===>  \n",
      " 0\n",
      "checking for null values ===> \n",
      " Species    4\n",
      "Length1    2\n",
      "Length2    2\n",
      "Length3    9\n",
      "Height     3\n",
      "Width      2\n",
      "Weight     0\n",
      "dtype: int64\n"
     ]
    }
   ],
   "source": [
    "def chk_for_dups_null(df):\n",
    "    print(\"checking for duplicates ===>  \\n\",df.duplicated().sum())\n",
    "    print(\"checking for null values ===> \\n\",df.isna().sum())\n",
    "chk_for_dups_null(fish_df)\n"
   ]
  },
  {
   "attachments": {},
   "cell_type": "markdown",
   "metadata": {},
   "source": [
    "However, there are null values. We could drop them since they're 5% less of the dataframe, but we are practicing pipelines and we will create a pipeline for filling in missing data and standardizing."
   ]
  },
  {
   "attachments": {},
   "cell_type": "markdown",
   "metadata": {},
   "source": [
    "# Step 5: Split the Dataset\n",
    "\n",
    "    Why split data:\n",
    "            Training Data: This is the portion of your data used to train your machine learning model. The model learns patterns, relationships, and rules from this data.\n",
    "            Testing Data: This is a separate portion of your data that the model has never seen during training. It's used to assess how well the trained model generalizes to new, unseen data."
   ]
  },
  {
   "cell_type": "code",
   "execution_count": 8,
   "metadata": {},
   "outputs": [],
   "source": [
    "target = 'Weight'\n",
    "X = fish_df.drop(columns=[target])\n",
    "y= fish_df[target]\n",
    "\n",
    "X_train, X_test, y_train, y_test = train_test_split(X, y, random_state=42)"
   ]
  },
  {
   "attachments": {},
   "cell_type": "markdown",
   "metadata": {},
   "source": [
    "    The objects returned by the train_test_split function are typically NumPy arrays or pandas DataFrames (depending on the data types of the input data). These objects are also considered data structures or data containers.\n",
    "    \n",
    "    X_train, X_test, y_train, and y_test are data containers (objects) that hold your feature and target data. The specific data type of these objects depends on the data types of your input data when calling train_test_split.\n",
    "    \n",
    "    X_train: Contains the feature data for the training set. It's typically a DataFrame or NumPy array. It's the portion of your data that your machine learning model will be trained on.\n",
    "\n",
    "    X_test: Contains the feature data for the testing set. It's also typically a DataFrame or NumPy array. It's used to evaluate the model's performance on unseen data.\n",
    "\n",
    "    y_train: Contains the target variable data for the training set. It's typically a Series (if using pandas) or a NumPy array.\n",
    "\n",
    "    y_test: Contains the target variable data for the testing set. It's also typically a Series (if using pandas) or a NumPy array.\n",
    "\n",
    "    The specific order of these variables (X_train, X_test, y_train, y_test) is a convention often used in machine learning to make it clear which sets correspond to feature data and target data. It's also the order in which the train_test_split function returns the values."
   ]
  },
  {
   "attachments": {},
   "cell_type": "markdown",
   "metadata": {},
   "source": [
    "# Step 6 : Separate categorical and numerical data "
   ]
  },
  {
   "cell_type": "markdown",
   "metadata": {},
   "source": []
  },
  {
   "cell_type": "code",
   "execution_count": 9,
   "metadata": {},
   "outputs": [],
   "source": [
    "# instantiate the columns selectors\n",
    "num_selector = make_column_selector(dtype_include='number')\n",
    "cat_selector = make_column_selector(dtype_include='object')"
   ]
  },
  {
   "cell_type": "code",
   "execution_count": 10,
   "metadata": {},
   "outputs": [
    {
     "name": "stdout",
     "output_type": "stream",
     "text": [
      "Numeric columns are : ['Length1', 'Length2', 'Length3', 'Height', 'Width'] \n",
      " Categorical columns are : ['Species']\n"
     ]
    }
   ],
   "source": [
    "numeric_columns = num_selector(X_train)\n",
    "categorical_columns = cat_selector(X_train)\n",
    "print(f\"Numeric columns are : {numeric_columns} \\n Categorical columns are : {categorical_columns}\")\n",
    "\n"
   ]
  },
  {
   "attachments": {},
   "cell_type": "markdown",
   "metadata": {},
   "source": [
    "# Step 7: Handle Missing Data, Categorical Data, and Scaling!"
   ]
  },
  {
   "cell_type": "code",
   "execution_count": 11,
   "metadata": {},
   "outputs": [],
   "source": [
    "# Create a transformer for imputing missing values in numeric columns\n",
    "# \"imputer\" can be any name just as long as it makes sense\n",
    "numeric_transformer = Pipeline([\n",
    "    ('imputer', SimpleImputer(strategy='mean')),\n",
    "    ('scaler', StandardScaler())  \n",
    "])\n",
    "\n",
    "categorical_transformer = Pipeline([\n",
    "    ('imputer', SimpleImputer(strategy='most_frequent')),\n",
    "    ('onehot', OneHotEncoder(sparse=False, handle_unknown='ignore'))\n",
    "])\n",
    "\n"
   ]
  },
  {
   "attachments": {},
   "cell_type": "markdown",
   "metadata": {},
   "source": [
    "numeric_transformer and categorical_transformer are instances of a data preprocessing pipeline"
   ]
  },
  {
   "cell_type": "code",
   "execution_count": 12,
   "metadata": {},
   "outputs": [],
   "source": [
    "# Create a ColumnTransformer to apply the numeric transformer to numeric columns\n",
    "# \"num\" and \"cat\" can be any name just as long as it makes sense\n",
    "preprocessor = ColumnTransformer(\n",
    "    transformers=[\n",
    "        ('num', numeric_transformer, numeric_columns),\n",
    "        ('cat', categorical_transformer, categorical_columns)\n",
    "    ])"
   ]
  },
  {
   "attachments": {},
   "cell_type": "markdown",
   "metadata": {},
   "source": [
    "Important note: the next few cells testing what the data looks like before train/test model"
   ]
  },
  {
   "cell_type": "code",
   "execution_count": 13,
   "metadata": {},
   "outputs": [
    {
     "name": "stdout",
     "output_type": "stream",
     "text": [
      "Intermediate Result after Numeric Imputation:\n",
      "[[-2.92555900e-01 -2.68531910e-01 -1.11589054e-01  6.22604980e-01\n",
      "  -2.36346595e-01]\n",
      " [-2.11297561e-01 -1.81225055e-01  3.73207539e-04  8.51357750e-01\n",
      "  -6.62429649e-02]\n",
      " [-2.21454853e-01 -1.61823532e-01 -8.95698094e-03  8.27005111e-01\n",
      "   1.66339205e-01]\n",
      " [ 2.23201649e-02  8.06955071e-02  2.14967542e-01  9.10928784e-01\n",
      "   2.30376170e-02]\n",
      " [ 4.26347497e-02  8.06955071e-02  2.61618485e-01  8.42779521e-01\n",
      "   4.27152859e-01]\n",
      " [ 7.31066270e-02  1.48600838e-01  3.26929804e-01  1.11880786e+00\n",
      "   3.04101704e-01]\n",
      " [ 7.31066270e-02  1.48600838e-01  3.08269427e-01  1.25632164e+00\n",
      "   5.13217196e-01]\n",
      " [ 1.54364966e-01  1.77703123e-01  3.54920370e-01  8.96631736e-01\n",
      "   1.62706039e-01]\n",
      " [ 1.54364966e-01  1.77703123e-01  3.64250558e-01  1.21471723e+00\n",
      "   2.54309465e-01]\n",
      " [ 2.45780598e-01  2.45608454e-01  4.66882631e-01  1.26754482e+00\n",
      "   3.23160934e-01]\n",
      " [ 2.35623306e-01  2.74710739e-01  4.66882631e-01  1.27617071e+00\n",
      "   0.00000000e+00]\n",
      " [ 2.66095183e-01  2.74710739e-01  4.66882631e-01  1.30204836e+00\n",
      "   2.36917917e-01]\n",
      " [ 3.06724353e-01  3.23214547e-01  4.85543008e-01  1.15617082e+00\n",
      "  -2.90774658e-02]\n",
      " [ 3.47353522e-01  3.71718354e-01  5.69514705e-01  1.19279509e+00\n",
      "   3.90702082e-01]\n",
      " [ 3.37196230e-01  3.71718354e-01  5.60184516e-01  1.44096801e+00\n",
      "   4.49070974e-01]\n",
      " [ 3.37196230e-01  3.71718354e-01  5.60184516e-01  1.55620222e+00\n",
      "   6.92790882e-01]\n",
      " [ 4.38769154e-01  4.68725970e-01  6.62816589e-01  1.41856931e+00\n",
      "   5.17326843e-01]\n",
      " [ 4.38769154e-01  4.68725970e-01  6.81476966e-01  4.23277654e-16\n",
      "   4.64973520e-01]\n",
      " [ 4.89555616e-01  5.17229778e-01  6.90807155e-01  1.60266763e+00\n",
      "   4.27033739e-01]\n",
      " [ 4.99712909e-01  5.17229778e-01  7.00137343e-01  1.32644866e+00\n",
      "   7.80701582e-01]\n",
      " [ 5.30184786e-01  5.65733586e-01  7.74778851e-01  1.48245328e+00\n",
      "   6.86537072e-01]\n",
      " [ 5.40342078e-01  5.65733586e-01  7.46788286e-01  1.68859289e+00\n",
      "   5.67952923e-01]\n",
      " [ 5.50499371e-01  6.14237394e-01  7.93439228e-01  1.57638489e+00\n",
      "   5.14170158e-01]\n",
      " [ 5.80971248e-01  6.62741202e-01  8.77410924e-01  1.56349372e+00\n",
      "   1.02072876e+00]\n",
      " [ 5.91128540e-01  6.62741202e-01  8.68080736e-01  1.74742524e+00\n",
      "   6.98151290e-01]\n",
      " [ 5.80971248e-01  6.62741202e-01  9.05401490e-01  1.77590020e+00\n",
      "   9.74629250e-01]\n",
      " [ 6.01285833e-01  6.62741202e-01  8.77410924e-01  4.23277654e-16\n",
      "   9.96547365e-01]\n",
      " [ 6.72386880e-01  7.59748818e-01  9.61382621e-01  1.81331080e+00\n",
      "   8.54496539e-01]\n",
      " [ 6.82544172e-01  7.59748818e-01  9.70712809e-01  1.90209547e+00\n",
      "   1.06111051e+00]\n",
      " [ 7.53645219e-01  8.56756433e-01  1.06401469e+00  2.39472409e+00\n",
      "   1.30209065e+00]\n",
      " [ 9.06004605e-01  1.00226786e+00  1.20396752e+00  2.17547886e+00\n",
      "   1.12537585e+00]\n",
      " [ 9.06004605e-01  1.00226786e+00  1.19463733e+00  2.18670204e+00\n",
      "   1.11685876e+00]\n",
      " [ 1.02789211e+00  1.09927547e+00  1.31592978e+00  2.34640007e+00\n",
      "   1.38946531e+00]\n",
      " [ 1.14977962e+00  1.24478690e+00  1.37191091e+00  2.31809192e+00\n",
      "   1.38803587e+00]\n",
      " [ 1.21072338e+00  1.24478690e+00  1.42789204e+00  2.07697220e+00\n",
      "   1.16361343e+00]\n",
      " [-1.33875702e+00 -1.36471797e+00 -1.39915506e+00 -1.13421629e+00\n",
      "  -1.27983945e+00]\n",
      " [-9.73094492e-01 -9.66986743e-01 -1.01661734e+00 -8.59927425e-01\n",
      "  -9.50055210e-01]\n",
      " [-8.71521568e-01 -9.08782174e-01 -9.32645640e-01  4.23277654e-16\n",
      "  -9.00799012e-01]\n",
      " [-8.00420521e-01 -8.11774558e-01 -8.39343755e-01 -7.84081585e-01\n",
      "  -7.39867636e-01]\n",
      " [-7.59791351e-01 -7.92373035e-01 -8.39343755e-01 -6.41254074e-01\n",
      "  -5.01865497e-01]\n",
      " [-7.19162182e-01 -7.43869227e-01 -7.83362624e-01 -5.79490826e-01\n",
      "  -6.34446268e-01]\n",
      " [-7.09004889e-01 -7.14766942e-01 -7.55372059e-01 -6.52763198e-01\n",
      "  -6.08180266e-01]\n",
      " [-6.78533012e-01 -6.95365419e-01 -6.99390928e-01 -6.65416085e-01\n",
      "  -6.68574202e-01]\n",
      " [-5.76960088e-01 -5.98357803e-01 -6.06089043e-01 -7.39307996e-01\n",
      "  -3.94538207e-01]\n",
      " [-5.66802795e-01 -5.98357803e-01  0.00000000e+00 -5.41675134e-01\n",
      "  -5.17589362e-01]\n",
      " [-5.66802795e-01 -5.49853995e-01 -5.50107913e-01 -4.46480622e-01\n",
      "  -3.55288104e-01]\n",
      " [-5.16016333e-01 -5.49853995e-01 -5.78098478e-01 -5.61667173e-01\n",
      "  -6.50289253e-01]\n",
      " [-5.05859041e-01 -5.49853995e-01 -5.78098478e-01 -5.97409793e-01\n",
      "  -3.67378804e-01]\n",
      " [-4.14443409e-01 -4.04342572e-01 -3.72834331e-01 -3.27100270e-01\n",
      "   0.00000000e+00]\n",
      " [-4.14443409e-01 -4.62547141e-01 -4.19485274e-01 -4.74621978e-01\n",
      "  -4.67916243e-01]\n",
      " [-4.04286117e-01 -4.52846380e-01 -4.10155085e-01 -3.59888167e-01\n",
      "  -1.72498174e-01]\n",
      " [-2.51926730e-01 -2.87933433e-01 -3.07523012e-01 -4.33803906e-01\n",
      "  -3.04245103e-01]\n",
      " [-2.11297561e-01 -2.10327340e-01 -1.86230562e-01 -7.22764661e-03\n",
      "   4.76359361e-02]\n",
      " [-1.09724637e-01 -1.13319724e-01 -5.56079233e-02 -8.08097876e-02\n",
      "   2.12498278e-01]\n",
      " [ 3.47353522e-01  3.42616070e-01  3.54920370e-01  1.37696765e-01\n",
      "   5.58780669e-01]\n",
      " [-2.51926730e-01 -2.10327340e-01 -2.32881504e-01 -1.25511891e-01\n",
      "  -1.00787820e-01]\n",
      " [-2.01140268e-01 -1.61823532e-01 -1.76900373e-01 -1.81508663e-01\n",
      "  -1.00251779e-01]\n",
      " [-4.87808821e-02 -1.63121086e-02 -3.69475464e-02 -3.07701192e-02\n",
      "   1.57702991e-01]\n",
      " [ 2.45780598e-01  2.74710739e-01  2.61618485e-01  4.37696491e-01\n",
      "   1.27767101e+00]\n",
      " [ 7.73959804e-01  7.98551864e-01  7.84109039e-01  6.80079113e-01\n",
      "   1.28457998e+00]\n",
      " [ 1.13962233e+00  1.14777928e+00  1.14798639e+00  8.21333949e-01\n",
      "   1.25563378e+00]\n",
      " [-1.27781326e+00 -1.30651340e+00 -1.37116450e+00 -4.90777643e-01\n",
      "  -1.24499680e+00]\n",
      " [-1.19655493e+00 -1.22890731e+00 -1.28719280e+00 -5.55185844e-01\n",
      "  -1.25232269e+00]\n",
      " [-9.93409077e-01 -1.01549055e+00 -1.06326828e+00 -3.57886580e-01\n",
      "  -1.03862107e+00]\n",
      " [-8.71521568e-01 -8.89380651e-01 -9.23315452e-01 -1.22700139e-01\n",
      "  -8.92639279e-01]\n",
      " [-7.80105936e-01 -7.92373035e-01 -8.20683378e-01 -3.41510045e-03\n",
      "  -6.69467604e-01]\n",
      " [-7.19162182e-01 -7.24467704e-01 -7.46041870e-01 -8.80536253e-02\n",
      "  -6.68514642e-01]\n",
      " [-7.19162182e-01 -7.24467704e-01 -7.46041870e-01  1.16489476e-01\n",
      "  -5.99424933e-01]\n",
      " [-6.37903842e-01 -6.46861611e-01 -6.62070174e-01  1.97601396e-01\n",
      "  -7.50290652e-01]\n",
      " [-4.95701749e-01 -5.01350188e-01 -5.03456970e-01  3.42811748e-01\n",
      "  -4.48618773e-01]\n",
      " [-3.12870485e-01 -3.07334956e-01 -2.98192824e-01  5.19666234e-01\n",
      "  -1.62492078e-01]\n",
      " [-2.11297561e-01 -2.10327340e-01 -2.04890939e-01  5.86385791e-01\n",
      "  -1.08887993e-01]\n",
      " [-1.88725081e+00 -1.91766138e+00  0.00000000e+00 -1.61917217e+00\n",
      "  -1.79205627e+00]\n",
      " [-1.37938619e+00 -1.40352101e+00 -1.53910789e+00 -1.28176183e+00\n",
      "  -1.43993699e+00]\n",
      " [-1.24734139e+00 -1.27741111e+00  0.00000000e+00 -1.21122973e+00\n",
      "  -1.18216090e+00]\n",
      " [-1.12545388e+00 -1.16100197e+00 -1.30585318e+00 -1.02813220e+00\n",
      "  -1.06327895e+00]\n",
      " [-1.05435283e+00 -1.04459284e+00 -1.18456073e+00 -1.02918065e+00\n",
      "  -8.78702217e-01]\n",
      " [-1.00356637e+00 -9.86388266e-01 -1.11924941e+00 -8.78013191e-01\n",
      "  -6.52314297e-01]\n",
      " [-9.42622615e-01 -9.18482935e-01 -1.10058903e+00 -8.83541383e-01\n",
      "  -7.70362404e-01]\n",
      " [-9.01993445e-01 -8.89380651e-01  0.00000000e+00 -7.79506529e-01\n",
      "  -8.13960394e-01]\n",
      " [-8.41049691e-01 -8.31176081e-01 -9.69966394e-01 -8.98219686e-01\n",
      "  -8.21941446e-01]\n",
      " [-8.00420521e-01 -7.92373035e-01 -9.51306017e-01 -9.11468284e-01\n",
      "  -9.79656577e-01]\n",
      " [-7.19162182e-01 -6.95365419e-01 -8.11353190e-01 -7.65995819e-01\n",
      "  -5.13301036e-01]\n",
      " [-7.19162182e-01 -6.95365419e-01 -8.11353190e-01 -7.12381888e-01\n",
      "  -6.60712270e-01]\n",
      " [-7.19162182e-01 -6.95365419e-01 -8.11353190e-01 -7.65995819e-01\n",
      "  -4.46295929e-01]\n",
      " [-6.88690305e-01 -6.66263134e-01 -7.83362624e-01 -6.01222339e-01\n",
      "  -5.25808656e-01]\n",
      " [-6.17589258e-01 -5.98357803e-01 -7.18051305e-01 -6.66512192e-01\n",
      "  -6.01152175e-01]\n",
      " [-6.17589258e-01 -5.98357803e-01 -7.18051305e-01 -7.78505736e-01\n",
      "  -5.31169064e-01]\n",
      " [-6.17589258e-01 -5.98357803e-01 -7.18051305e-01 -6.66512192e-01\n",
      "  -5.31169064e-01]\n",
      " [-6.17589258e-01 -5.98357803e-01 -7.18051305e-01 -7.22508964e-01\n",
      "  -5.31169064e-01]\n",
      " [-6.17589258e-01 -5.98357803e-01 -7.18051305e-01 -8.06504122e-01\n",
      "  -2.51236619e-01]\n",
      " [-5.66802795e-01 -5.49853995e-01 -6.71400363e-01 -7.27036363e-01\n",
      "  -4.72204570e-01]\n",
      " [-5.66802795e-01 -5.49853995e-01 -6.71400363e-01 -5.04002412e-01\n",
      "  -4.72204570e-01]\n",
      " [-5.46488211e-01 -5.30452472e-01 -6.52739986e-01 -7.03875145e-01\n",
      "  -4.68630965e-01]\n",
      " [-5.16016333e-01 -5.01350188e-01 -6.24749420e-01 -8.78942499e-01\n",
      "  -4.71013368e-01]\n",
      " [-4.65229871e-01 -4.52846380e-01 -5.78098478e-01 -6.27195310e-01\n",
      "  -4.12048875e-01]\n",
      " [-4.14443409e-01 -4.04342572e-01 -5.31447536e-01 -3.84622060e-01\n",
      "  -4.13240077e-01]\n",
      " [-4.14443409e-01 -4.04342572e-01 -5.31447536e-01 -6.03366897e-01\n",
      "  -3.52488780e-01]\n",
      " [-3.53499655e-01 -3.46138002e-01 -4.66136216e-01 -5.17965862e-01\n",
      "  -1.49507977e-01]\n",
      " [-3.12870485e-01 -3.07334956e-01 -4.38145651e-01 -5.87997570e-01\n",
      "  -4.36766314e-01]\n",
      " [-2.62084023e-01 -2.49130387e-01 -3.91494708e-01 -5.59046047e-01\n",
      "  -1.05909988e-01]\n",
      " [-1.09724637e-01 -1.61823532e-01 -2.98192824e-01 -4.14407577e-01\n",
      "  -1.62492078e-01]\n",
      " [-8.94100517e-02 -8.42174397e-02 -2.32881504e-01 -1.39189401e-01\n",
      "   4.29118343e-01]\n",
      " [-6.90954669e-02 -6.48159165e-02 -2.14221127e-01 -4.14598204e-01\n",
      "  -4.87322971e-02]\n",
      " [-6.90954669e-02 -6.48159165e-02 -2.14221127e-01 -4.42143851e-01\n",
      "  -4.87322971e-02]\n",
      " [-6.90954669e-02 -6.48159165e-02 -2.14221127e-01 -3.87052558e-01\n",
      "   8.89706418e-02]\n",
      " [-1.83090048e-02 -1.63121086e-02 -1.67570185e-01 -2.58951007e-01\n",
      "  -1.26636901e-01]\n",
      " [ 8.32639194e-02  5.15932224e-02 -1.02258866e-01 -3.14995436e-01\n",
      "   1.30186227e-01]\n",
      " [ 1.74679551e-01  1.77703123e-01  3.76939614e-02 -3.07751598e-01\n",
      "   2.11307076e-01]\n",
      " [ 4.48926447e-01  4.49324447e-01  2.61618485e-01  2.67561618e-01\n",
      "   9.53664096e-01]\n",
      " [ 6.01285833e-01  6.14237394e-01  4.94873197e-01  3.21532975e-01\n",
      "   1.17373865e+00]\n",
      " [ 6.52072295e-01  6.62741202e-01  5.69514705e-01  6.15075201e-01\n",
      "   2.01246390e+00]\n",
      " [ 8.04431681e-01  8.08252626e-01  7.28127909e-01  4.70341418e-01\n",
      "   1.45754250e+00]\n",
      " [ 8.04431681e-01  7.59748818e-01  0.00000000e+00  4.05551961e-01\n",
      "   1.38416446e+00]\n",
      " [ 8.55218143e-01  8.56756433e-01  7.65448663e-01  4.59380347e-01\n",
      "   1.10053929e+00]\n",
      " [ 8.65375436e-01  8.56756433e-01  7.56118474e-01  3.96640134e-01\n",
      "   1.16129059e+00]\n",
      " [ 1.05836399e+00  1.05077166e+00  9.52052432e-01  5.31246843e-01\n",
      "   1.83241373e+00]\n",
      " [ 1.05836399e+00  1.05077166e+00  9.52052432e-01  5.31246843e-01\n",
      "   9.44730082e-01]\n",
      " [ 1.06852128e+00  1.05077166e+00  9.42722244e-01  8.39753313e-01\n",
      "   1.74783840e+00]\n",
      " [ 1.09899316e+00  1.14777928e+00  1.03602413e+00  7.19967878e-01\n",
      "   1.60191617e+00]\n",
      " [ 1.10915045e+00  1.14777928e+00  1.05468451e+00  6.72644648e-01\n",
      "   1.67255444e+00]\n",
      " [ 1.10915045e+00  1.14777928e+00  1.04535432e+00  8.27719964e-01\n",
      "   1.81395010e+00]\n",
      " [ 1.11930775e+00  1.14777928e+00  1.05468451e+00  5.30865588e-01\n",
      "   1.31817188e+00]\n",
      " [ 1.31229630e+00  1.34179451e+00  1.25061846e+00  9.27656330e-01\n",
      "   1.46016314e+00]\n",
      " [ 1.39355464e+00  1.43880213e+00  0.00000000e+00  7.20968671e-01\n",
      "   1.70364481e+00]\n",
      " [ 1.42402652e+00  1.43880213e+00  1.33459016e+00  8.59101984e-01\n",
      "   1.78661202e+00]\n",
      " [ 1.43418381e+00  1.48730594e+00  1.38124110e+00  8.80904983e-01\n",
      "   2.21872051e+00]\n",
      " [ 1.52559944e+00  1.53580974e+00  1.43722223e+00  8.53454650e-01\n",
      "   1.89340327e+00]\n",
      " [ 3.98139984e-01  0.00000000e+00  3.36259993e-01 -7.95662194e-01\n",
      "  -6.20151846e-01]\n",
      " [ 5.70813956e-01  5.65733586e-01  6.16165647e-01 -7.62350072e-01\n",
      "  -1.54153665e-01]\n",
      " [ 6.72386880e-01  6.62741202e-01  7.09467532e-01 -7.07878318e-01\n",
      "  -1.93096103e-02]\n",
      " [ 8.85690021e-01  8.85858718e-01  8.02769416e-01 -6.24002303e-01\n",
      "  -2.36465716e-01]\n",
      " [ 0.00000000e+00  9.53764049e-01  8.68080736e-01 -3.85336913e-01\n",
      "   9.51053316e-02]\n",
      " [ 1.00757753e+00  1.00226786e+00  9.14731678e-01 -5.98362930e-01\n",
      "  -2.61957436e-01]\n",
      " [ 1.41386923e+00  1.39029832e+00  1.33459016e+00 -3.87719754e-01\n",
      "  -5.61773089e-02]\n",
      " [ 1.41386923e+00  1.39029832e+00  1.33459016e+00 -4.96139036e-01\n",
      "   2.51222203e-02]\n",
      " [ 1.42402652e+00  1.43880213e+00  1.36258072e+00 -2.67147981e-01\n",
      "   4.24532215e-01]\n",
      " [ 1.61701507e+00  1.63281736e+00  1.56784487e+00 -4.63970677e-01\n",
      "   2.85399834e-01]\n",
      " [ 0.00000000e+00  1.72982498e+00  0.00000000e+00 -2.65718277e-01\n",
      "   2.69914209e-01]\n",
      " [ 1.90141926e+00  1.92384021e+00  1.86641090e+00 -2.92406100e-01\n",
      "   5.71288289e-01]\n",
      " [ 2.25692450e+00  2.28276839e+00  2.23028825e+00  4.54358967e-03\n",
      "   1.04491016e+00]\n",
      " [ 2.63274432e+00  2.69990113e+00  2.65947692e+00  4.23947496e-01\n",
      "   1.52955065e+00]\n",
      " [ 3.03903601e+00  3.08793160e+00  3.06067503e+00  1.65099440e-01\n",
      "   1.02870982e+00]\n",
      " [ 3.03903601e+00  3.08793160e+00  3.06067503e+00  1.65099440e-01\n",
      "   1.02870982e+00]\n",
      " [ 3.34375479e+00  0.00000000e+00  0.00000000e+00  4.53899812e-01\n",
      "   1.82443268e+00]\n",
      " [-1.70441955e+00 -1.78185072e+00 -1.90298524e+00 -1.70809980e+00\n",
      "  -2.00671085e+00]\n",
      " [-1.63331850e+00 -1.71394538e+00 -1.82834373e+00 -1.65253194e+00\n",
      "  -1.93976530e+00]\n",
      " [-1.62316121e+00 -1.70424462e+00 -1.82834373e+00 -1.71057796e+00\n",
      "  -1.94667427e+00]\n",
      " [-1.59268933e+00 -1.66544158e+00 -1.79102298e+00 -1.59915630e+00\n",
      "  -1.80873310e+00]\n",
      " [-1.56221745e+00 -1.64604005e+00 -1.75370223e+00 -1.62603475e+00\n",
      "  -1.86996087e+00]\n",
      " [-1.55206016e+00 -1.63633929e+00 -1.73504185e+00 -1.65105458e+00\n",
      "  -1.86519606e+00]\n",
      " [-1.50127370e+00 -1.58783548e+00 -1.68839091e+00 -1.59489101e+00\n",
      "  -1.86602991e+00]\n",
      " [-1.50127370e+00 -1.58783548e+00 -1.68839091e+00 -1.59489101e+00\n",
      "  -1.93625126e+00]\n",
      " [-1.49111641e+00 -1.56843396e+00 -1.67906072e+00 -1.59715471e+00\n",
      "  -1.94667427e+00]\n",
      " [-1.48095911e+00 -1.54903244e+00 -1.66040034e+00 -1.62431910e+00\n",
      "  -1.80063292e+00]\n",
      " [-1.46064453e+00 -1.52963091e+00 -1.65107015e+00 -1.54339781e+00\n",
      "  -1.87484480e+00]\n",
      " [-1.42001536e+00 -1.47142635e+00 -1.62307959e+00 -1.57985528e+00\n",
      "  -1.88270673e+00]\n",
      " [-1.30828514e+00 -1.34531644e+00 -1.49245695e+00 -1.43788560e+00\n",
      "  -1.39943612e+00]\n",
      " [-1.24734139e+00 -1.27741111e+00  0.00000000e+00 -1.42373152e+00\n",
      "  -1.51140910e+00]]\n"
     ]
    },
    {
     "name": "stderr",
     "output_type": "stream",
     "text": [
      "/Library/Frameworks/Python.framework/Versions/3.10/lib/python3.10/site-packages/sklearn/preprocessing/_encoders.py:828: FutureWarning: `sparse` was renamed to `sparse_output` in version 1.2 and will be removed in 1.4. `sparse_output` is ignored unless you leave `sparse` to its default value.\n",
      "  warnings.warn(\n"
     ]
    }
   ],
   "source": [
    "# Fit and transform your data\n",
    "X_preprocessed = preprocessor.fit_transform(fish_df)\n",
    "\n",
    "# Print intermediate results (optional)\n",
    "print(\"Intermediate Result after Numeric Imputation:\")\n",
    "print(X_preprocessed[:, :len(numeric_columns)])  # Numeric columns\n"
   ]
  },
  {
   "cell_type": "code",
   "execution_count": 14,
   "metadata": {},
   "outputs": [
    {
     "name": "stdout",
     "output_type": "stream",
     "text": [
      "Intermediate Result after Categorical Imputation:\n",
      "[[0. 1. 0. ... 0. 0. 0.]\n",
      " [0. 1. 0. ... 0. 0. 0.]\n",
      " [0. 1. 0. ... 0. 0. 0.]\n",
      " ...\n",
      " [0. 0. 0. ... 0. 1. 0.]\n",
      " [0. 0. 0. ... 0. 1. 0.]\n",
      " [0. 0. 0. ... 0. 1. 0.]]\n"
     ]
    }
   ],
   "source": [
    "print(\"Intermediate Result after Categorical Imputation:\")\n",
    "print(X_preprocessed[:, len(numeric_columns):])  # Categorical columns"
   ]
  },
  {
   "attachments": {},
   "cell_type": "markdown",
   "metadata": {},
   "source": [
    "To check what's happening under the hood in scikit-learn's transformers and pipelines, you can use the fit_transform or transform methods and print the intermediate results at various stages. This can help you understand how data is being processed at each step. "
   ]
  },
  {
   "attachments": {},
   "cell_type": "markdown",
   "metadata": {},
   "source": [
    "The Data being returned from this preprocessor are Numpy arrays,\n",
    "\n",
    "Turning the data into a NumPy array in this context has several advantages and use cases:\n",
    "\n",
    "    Compatibility with Scikit-Learn: Scikit-Learn, a popular machine learning library, primarily works with NumPy arrays or pandas DataFrames. By converting your data into a NumPy array, you ensure that it can be seamlessly integrated with various Scikit-Learn functions and models.\n",
    "\n",
    "    Efficient Computation: NumPy arrays are highly optimized for numerical computations. When you perform mathematical operations or apply machine learning algorithms, NumPy arrays are more efficient than native Python data structures like lists or tuples.\n",
    "\n",
    "    Slicing and Indexing: NumPy arrays allow for easy slicing and indexing, as you've seen in the code. This makes it convenient to access specific subsets of your data, such as numeric and categorical columns in this case.\n",
    "\n",
    "    Standardized Data Format: Converting data into a NumPy array helps standardize the data format. This can be important when working with various data preprocessing steps, transformations, and machine learning models. It ensures a consistent and expected input format.\n",
    "\n",
    "    Memory Efficiency: NumPy arrays can be more memory-efficient than pandas DataFrames, especially when dealing with large datasets. NumPy stores data in a more compact way, which can reduce memory overhead.\n",
    "\n",
    "    Integration with Other Libraries: Many other scientific and numerical libraries, beyond Scikit-Learn, are built to work with NumPy arrays. This compatibility makes it easier to use these libraries in conjunction with your machine learning workflow."
   ]
  },
  {
   "attachments": {},
   "cell_type": "markdown",
   "metadata": {},
   "source": [
    "# Important to note:\n",
    "The missing values and onehot encoder are filled in but NOT applied to the original dataframe  (fish_df). The code I provided earlier filled in missing values and stored the result in the X_preprocessed variable, which is a NumPy array.\n",
    "\n",
    "X_preprocessed now contains your data with missing values filled in and all columns converted to numerical format.\n",
    "\n",
    "    Missing Values: The missing values in both numeric and categorical columns were filled in using the appropriate strategies (mean for numeric and most frequent for categorical).\n",
    "\n",
    "    One-Hot Encoding: Categorical columns were one-hot encoded, converting them from categorical to numerical format.\n",
    "\n",
    "    Numerical Columns: Numeric columns remained unchanged but now contain no missing values."
   ]
  },
  {
   "attachments": {},
   "cell_type": "markdown",
   "metadata": {},
   "source": [
    "You can use the StandardScaler to standardize your numeric features so that they have a mean of 0 and a standard deviation of 1. "
   ]
  },
  {
   "attachments": {},
   "cell_type": "markdown",
   "metadata": {},
   "source": [
    "# Why do we scale, again?\n",
    "\n",
    "    Equal Treatment of Features: Scaling ensures that all features are treated equally in terms of their impact on the model. Without scaling, features with larger scales (e.g., income in thousands) can dominate those with smaller scales (e.g., age) in the learning process.\n",
    "\n",
    "    Convergence: Algorithms that rely on optimization, like gradient descent, converge faster when features are on similar scales. This helps reduce the time it takes for the model to find the optimal solution.\n",
    "\n",
    "    Numerical Stability: Scaling can improve the numerical stability of certain calculations, particularly in algorithms that involve matrix operations. This prevents issues like overflow or underflow.\n",
    "\n",
    "Mathematics of Scaling:\n",
    "Scaling involves transforming your data so that it has a particular scale, often with a mean of 0 and a standard deviation of 1 (a standard normal distribution). The standard scaling transformation is:\n",
    "\n",
    "    Standardized Value  =   Value−MeanStandard Deviation\n",
    "                            _________________________\n",
    "\n",
    "                            Standard DeviationValue−Mean​\n",
    "\n",
    "Here's a brief explanation of the math:\n",
    "\n",
    "    Subtracting the mean centers the data around 0. This step ensures that the transformed data has a mean of 0.\n",
    "\n",
    "    Dividing by the standard deviation scales the data. It makes the variance of the transformed data equal to 1. This step ensures that the transformed data has a standard deviation of 1.\n",
    "\n",
    "By scaling your data using the standardization process, you bring all features to a similar scale, and they all have a mean of 0 and a standard deviation of 1. This standardization helps ensure that your machine learning algorithms can effectively learn from and generalize to the data."
   ]
  },
  {
   "attachments": {},
   "cell_type": "markdown",
   "metadata": {},
   "source": [
    "# Step 8: Fit The Model!"
   ]
  },
  {
   "attachments": {},
   "cell_type": "markdown",
   "metadata": {},
   "source": [
    "Linear Regression Model"
   ]
  },
  {
   "cell_type": "code",
   "execution_count": 15,
   "metadata": {},
   "outputs": [],
   "source": [
    "# import LinearRegression model\n",
    "from sklearn.linear_model import LinearRegression\n",
    "\n",
    "# Create an instance of Linear Regression\n",
    "linear_reg_model = LinearRegression()\n"
   ]
  },
  {
   "cell_type": "code",
   "execution_count": 18,
   "metadata": {},
   "outputs": [
    {
     "name": "stderr",
     "output_type": "stream",
     "text": [
      "/Library/Frameworks/Python.framework/Versions/3.10/lib/python3.10/site-packages/sklearn/preprocessing/_encoders.py:828: FutureWarning: `sparse` was renamed to `sparse_output` in version 1.2 and will be removed in 1.4. `sparse_output` is ignored unless you leave `sparse` to its default value.\n",
      "  warnings.warn(\n"
     ]
    },
    {
     "data": {
      "text/html": [
       "<style>#sk-container-id-1 {color: black;background-color: white;}#sk-container-id-1 pre{padding: 0;}#sk-container-id-1 div.sk-toggleable {background-color: white;}#sk-container-id-1 label.sk-toggleable__label {cursor: pointer;display: block;width: 100%;margin-bottom: 0;padding: 0.3em;box-sizing: border-box;text-align: center;}#sk-container-id-1 label.sk-toggleable__label-arrow:before {content: \"▸\";float: left;margin-right: 0.25em;color: #696969;}#sk-container-id-1 label.sk-toggleable__label-arrow:hover:before {color: black;}#sk-container-id-1 div.sk-estimator:hover label.sk-toggleable__label-arrow:before {color: black;}#sk-container-id-1 div.sk-toggleable__content {max-height: 0;max-width: 0;overflow: hidden;text-align: left;background-color: #f0f8ff;}#sk-container-id-1 div.sk-toggleable__content pre {margin: 0.2em;color: black;border-radius: 0.25em;background-color: #f0f8ff;}#sk-container-id-1 input.sk-toggleable__control:checked~div.sk-toggleable__content {max-height: 200px;max-width: 100%;overflow: auto;}#sk-container-id-1 input.sk-toggleable__control:checked~label.sk-toggleable__label-arrow:before {content: \"▾\";}#sk-container-id-1 div.sk-estimator input.sk-toggleable__control:checked~label.sk-toggleable__label {background-color: #d4ebff;}#sk-container-id-1 div.sk-label input.sk-toggleable__control:checked~label.sk-toggleable__label {background-color: #d4ebff;}#sk-container-id-1 input.sk-hidden--visually {border: 0;clip: rect(1px 1px 1px 1px);clip: rect(1px, 1px, 1px, 1px);height: 1px;margin: -1px;overflow: hidden;padding: 0;position: absolute;width: 1px;}#sk-container-id-1 div.sk-estimator {font-family: monospace;background-color: #f0f8ff;border: 1px dotted black;border-radius: 0.25em;box-sizing: border-box;margin-bottom: 0.5em;}#sk-container-id-1 div.sk-estimator:hover {background-color: #d4ebff;}#sk-container-id-1 div.sk-parallel-item::after {content: \"\";width: 100%;border-bottom: 1px solid gray;flex-grow: 1;}#sk-container-id-1 div.sk-label:hover label.sk-toggleable__label {background-color: #d4ebff;}#sk-container-id-1 div.sk-serial::before {content: \"\";position: absolute;border-left: 1px solid gray;box-sizing: border-box;top: 0;bottom: 0;left: 50%;z-index: 0;}#sk-container-id-1 div.sk-serial {display: flex;flex-direction: column;align-items: center;background-color: white;padding-right: 0.2em;padding-left: 0.2em;position: relative;}#sk-container-id-1 div.sk-item {position: relative;z-index: 1;}#sk-container-id-1 div.sk-parallel {display: flex;align-items: stretch;justify-content: center;background-color: white;position: relative;}#sk-container-id-1 div.sk-item::before, #sk-container-id-1 div.sk-parallel-item::before {content: \"\";position: absolute;border-left: 1px solid gray;box-sizing: border-box;top: 0;bottom: 0;left: 50%;z-index: -1;}#sk-container-id-1 div.sk-parallel-item {display: flex;flex-direction: column;z-index: 1;position: relative;background-color: white;}#sk-container-id-1 div.sk-parallel-item:first-child::after {align-self: flex-end;width: 50%;}#sk-container-id-1 div.sk-parallel-item:last-child::after {align-self: flex-start;width: 50%;}#sk-container-id-1 div.sk-parallel-item:only-child::after {width: 0;}#sk-container-id-1 div.sk-dashed-wrapped {border: 1px dashed gray;margin: 0 0.4em 0.5em 0.4em;box-sizing: border-box;padding-bottom: 0.4em;background-color: white;}#sk-container-id-1 div.sk-label label {font-family: monospace;font-weight: bold;display: inline-block;line-height: 1.2em;}#sk-container-id-1 div.sk-label-container {text-align: center;}#sk-container-id-1 div.sk-container {/* jupyter's `normalize.less` sets `[hidden] { display: none; }` but bootstrap.min.css set `[hidden] { display: none !important; }` so we also need the `!important` here to be able to override the default hidden behavior on the sphinx rendered scikit-learn.org. See: https://github.com/scikit-learn/scikit-learn/issues/21755 */display: inline-block !important;position: relative;}#sk-container-id-1 div.sk-text-repr-fallback {display: none;}</style><div id=\"sk-container-id-1\" class=\"sk-top-container\"><div class=\"sk-text-repr-fallback\"><pre>ColumnTransformer(transformers=[(&#x27;num&#x27;,\n",
       "                                 Pipeline(steps=[(&#x27;imputer&#x27;, SimpleImputer()),\n",
       "                                                 (&#x27;scaler&#x27;, StandardScaler())]),\n",
       "                                 [&#x27;Length1&#x27;, &#x27;Length2&#x27;, &#x27;Length3&#x27;, &#x27;Height&#x27;,\n",
       "                                  &#x27;Width&#x27;]),\n",
       "                                (&#x27;cat&#x27;,\n",
       "                                 Pipeline(steps=[(&#x27;imputer&#x27;,\n",
       "                                                  SimpleImputer(strategy=&#x27;most_frequent&#x27;)),\n",
       "                                                 (&#x27;onehot&#x27;,\n",
       "                                                  OneHotEncoder(handle_unknown=&#x27;ignore&#x27;,\n",
       "                                                                sparse=False))]),\n",
       "                                 [&#x27;Species&#x27;])])</pre><b>In a Jupyter environment, please rerun this cell to show the HTML representation or trust the notebook. <br />On GitHub, the HTML representation is unable to render, please try loading this page with nbviewer.org.</b></div><div class=\"sk-container\" hidden><div class=\"sk-item sk-dashed-wrapped\"><div class=\"sk-label-container\"><div class=\"sk-label sk-toggleable\"><input class=\"sk-toggleable__control sk-hidden--visually\" id=\"sk-estimator-id-1\" type=\"checkbox\" ><label for=\"sk-estimator-id-1\" class=\"sk-toggleable__label sk-toggleable__label-arrow\">ColumnTransformer</label><div class=\"sk-toggleable__content\"><pre>ColumnTransformer(transformers=[(&#x27;num&#x27;,\n",
       "                                 Pipeline(steps=[(&#x27;imputer&#x27;, SimpleImputer()),\n",
       "                                                 (&#x27;scaler&#x27;, StandardScaler())]),\n",
       "                                 [&#x27;Length1&#x27;, &#x27;Length2&#x27;, &#x27;Length3&#x27;, &#x27;Height&#x27;,\n",
       "                                  &#x27;Width&#x27;]),\n",
       "                                (&#x27;cat&#x27;,\n",
       "                                 Pipeline(steps=[(&#x27;imputer&#x27;,\n",
       "                                                  SimpleImputer(strategy=&#x27;most_frequent&#x27;)),\n",
       "                                                 (&#x27;onehot&#x27;,\n",
       "                                                  OneHotEncoder(handle_unknown=&#x27;ignore&#x27;,\n",
       "                                                                sparse=False))]),\n",
       "                                 [&#x27;Species&#x27;])])</pre></div></div></div><div class=\"sk-parallel\"><div class=\"sk-parallel-item\"><div class=\"sk-item\"><div class=\"sk-label-container\"><div class=\"sk-label sk-toggleable\"><input class=\"sk-toggleable__control sk-hidden--visually\" id=\"sk-estimator-id-2\" type=\"checkbox\" ><label for=\"sk-estimator-id-2\" class=\"sk-toggleable__label sk-toggleable__label-arrow\">num</label><div class=\"sk-toggleable__content\"><pre>[&#x27;Length1&#x27;, &#x27;Length2&#x27;, &#x27;Length3&#x27;, &#x27;Height&#x27;, &#x27;Width&#x27;]</pre></div></div></div><div class=\"sk-serial\"><div class=\"sk-item\"><div class=\"sk-serial\"><div class=\"sk-item\"><div class=\"sk-estimator sk-toggleable\"><input class=\"sk-toggleable__control sk-hidden--visually\" id=\"sk-estimator-id-3\" type=\"checkbox\" ><label for=\"sk-estimator-id-3\" class=\"sk-toggleable__label sk-toggleable__label-arrow\">SimpleImputer</label><div class=\"sk-toggleable__content\"><pre>SimpleImputer()</pre></div></div></div><div class=\"sk-item\"><div class=\"sk-estimator sk-toggleable\"><input class=\"sk-toggleable__control sk-hidden--visually\" id=\"sk-estimator-id-4\" type=\"checkbox\" ><label for=\"sk-estimator-id-4\" class=\"sk-toggleable__label sk-toggleable__label-arrow\">StandardScaler</label><div class=\"sk-toggleable__content\"><pre>StandardScaler()</pre></div></div></div></div></div></div></div></div><div class=\"sk-parallel-item\"><div class=\"sk-item\"><div class=\"sk-label-container\"><div class=\"sk-label sk-toggleable\"><input class=\"sk-toggleable__control sk-hidden--visually\" id=\"sk-estimator-id-5\" type=\"checkbox\" ><label for=\"sk-estimator-id-5\" class=\"sk-toggleable__label sk-toggleable__label-arrow\">cat</label><div class=\"sk-toggleable__content\"><pre>[&#x27;Species&#x27;]</pre></div></div></div><div class=\"sk-serial\"><div class=\"sk-item\"><div class=\"sk-serial\"><div class=\"sk-item\"><div class=\"sk-estimator sk-toggleable\"><input class=\"sk-toggleable__control sk-hidden--visually\" id=\"sk-estimator-id-6\" type=\"checkbox\" ><label for=\"sk-estimator-id-6\" class=\"sk-toggleable__label sk-toggleable__label-arrow\">SimpleImputer</label><div class=\"sk-toggleable__content\"><pre>SimpleImputer(strategy=&#x27;most_frequent&#x27;)</pre></div></div></div><div class=\"sk-item\"><div class=\"sk-estimator sk-toggleable\"><input class=\"sk-toggleable__control sk-hidden--visually\" id=\"sk-estimator-id-7\" type=\"checkbox\" ><label for=\"sk-estimator-id-7\" class=\"sk-toggleable__label sk-toggleable__label-arrow\">OneHotEncoder</label><div class=\"sk-toggleable__content\"><pre>OneHotEncoder(handle_unknown=&#x27;ignore&#x27;, sparse=False)</pre></div></div></div></div></div></div></div></div></div></div></div></div>"
      ],
      "text/plain": [
       "ColumnTransformer(transformers=[('num',\n",
       "                                 Pipeline(steps=[('imputer', SimpleImputer()),\n",
       "                                                 ('scaler', StandardScaler())]),\n",
       "                                 ['Length1', 'Length2', 'Length3', 'Height',\n",
       "                                  'Width']),\n",
       "                                ('cat',\n",
       "                                 Pipeline(steps=[('imputer',\n",
       "                                                  SimpleImputer(strategy='most_frequent')),\n",
       "                                                 ('onehot',\n",
       "                                                  OneHotEncoder(handle_unknown='ignore',\n",
       "                                                                sparse=False))]),\n",
       "                                 ['Species'])])"
      ]
     },
     "execution_count": 18,
     "metadata": {},
     "output_type": "execute_result"
    }
   ],
   "source": [
    "# fit on train ONLY\n",
    "preprocessor.fit(X_train)\n",
    "# X_train\n"
   ]
  },
  {
   "cell_type": "code",
   "execution_count": null,
   "metadata": {},
   "outputs": [],
   "source": [
    "# transform train and test data\n",
    "X_train_processed = preprocessor.transform(X_train)\n",
    "X_test_processed = preprocessor.transform(X_test)"
   ]
  },
  {
   "attachments": {},
   "cell_type": "markdown",
   "metadata": {},
   "source": [
    "Evaluating your model. \n",
    "    Function below"
   ]
  },
  {
   "cell_type": "code",
   "execution_count": 17,
   "metadata": {},
   "outputs": [],
   "source": [
    "def eval_regression(true,predicted_values):\n",
    "    ''' Takes true and predicted values (arrays) and prints MAE, MSE, RMSE, and R2'''\n",
    "    # don't need to use numpy to do these calculations\n",
    "    # taking 2 parameters because that's what is need the true values and predicted values for calculations\n",
    "    mae = mean_absolute_error(true, predicted_values)\n",
    "    mse = mean_squared_error(true, predicted_values)\n",
    "    rmse = np.sqrt(mse)\n",
    "    r2 = r2_score(true, predicted_values)\n",
    "    print(f'MAE {mae}, \\n MSE {mse}, \\n RMSE {rmse}, \\n R^2 {r2}')"
   ]
  }
 ],
 "metadata": {
  "kernelspec": {
   "display_name": "Python 3",
   "language": "python",
   "name": "python3"
  },
  "language_info": {
   "codemirror_mode": {
    "name": "ipython",
    "version": 3
   },
   "file_extension": ".py",
   "mimetype": "text/x-python",
   "name": "python",
   "nbconvert_exporter": "python",
   "pygments_lexer": "ipython3",
   "version": "3.10.3"
  },
  "orig_nbformat": 4,
  "vscode": {
   "interpreter": {
    "hash": "949777d72b0d2535278d3dc13498b2535136f6dfe0678499012e853ee9abcab1"
   }
  }
 },
 "nbformat": 4,
 "nbformat_minor": 2
}
